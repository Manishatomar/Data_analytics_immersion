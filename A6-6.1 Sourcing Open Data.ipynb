{
 "cells": [
  {
   "cell_type": "markdown",
   "id": "9d8d69ff-a108-42a7-a451-7150b54e47f6",
   "metadata": {},
   "source": [
    "# Exercise 6.1 Sourcing Open Data"
   ]
  },
  {
   "cell_type": "markdown",
   "id": "ff0eb3d0-1ca6-4e3c-afca-3db1ea8bf9e5",
   "metadata": {},
   "source": [
    "## Contents:"
   ]
  },
  {
   "cell_type": "markdown",
   "id": "8e359cc3-80ef-497a-8b83-a813be00b4b4",
   "metadata": {},
   "source": [
    "1. Import Libraries\n",
    "2. Creating a path and Checking the Data\n",
    "3. Data Exploration\n",
    "4. Checking for Missing Values\n",
    "5. Checking for duplicates, mixed-type data, and performing data transformations\n",
    "6. Addressing errors and inconsistencies\n",
    "7. Checking the Outliers\n",
    "8. Exporting the Dataset"
   ]
  },
  {
   "cell_type": "markdown",
   "id": "bb9c0bc0-23b0-404e-8c54-61c575d7b184",
   "metadata": {},
   "source": [
    "## 1. Import Libraries"
   ]
  },
  {
   "cell_type": "code",
   "execution_count": 69,
   "id": "bf1f69fb-8f59-47bd-8055-845a04b01b4f",
   "metadata": {},
   "outputs": [],
   "source": [
    "import pandas as pd\n",
    "import numpy as np\n",
    "import os\n",
    "import matplotlib.pyplot as plt\n",
    "import seaborn as sns"
   ]
  },
  {
   "cell_type": "markdown",
   "id": "4a8461fe-f2b2-4728-b9f6-d2b1e2785fe3",
   "metadata": {},
   "source": [
    "## 2. Creating a path and Checking the Data"
   ]
  },
  {
   "cell_type": "code",
   "execution_count": 70,
   "id": "2207e762-d058-4134-a202-15030b934649",
   "metadata": {},
   "outputs": [],
   "source": [
    "path = r'C:\\Users\\rajkaran\\Documents\\CareerFoundry- Data Analytics Program\\2. Data Immersion\\Achievements 6 - Tasks\\3. Data\\Original Data'"
   ]
  },
  {
   "cell_type": "code",
   "execution_count": 71,
   "id": "3a621f2e-f0d9-46b4-a09c-fecb3714dbaf",
   "metadata": {},
   "outputs": [
    {
     "name": "stdout",
     "output_type": "stream",
     "text": [
      "C:\\Users\\rajkaran\\Documents\\CareerFoundry- Data Analytics Program\\2. Data Immersion\\Achievements 6 - Tasks\\3. Data\\Original Data\n"
     ]
    }
   ],
   "source": [
    "print(path)"
   ]
  },
  {
   "cell_type": "code",
   "execution_count": 72,
   "id": "6c38564e-3242-4602-bbc4-0f9435f9aba5",
   "metadata": {},
   "outputs": [],
   "source": [
    "# Reading CSV files - COVID-19_2020-2023\n",
    "df_covid = pd.read_csv(os.path.join(path,'COVID-19_2020-2023.csv'), index_col = False)"
   ]
  },
  {
   "cell_type": "code",
   "execution_count": 73,
   "id": "e248793f-5967-4606-bfee-b7b9ce908520",
   "metadata": {},
   "outputs": [
    {
     "data": {
      "text/html": [
       "<div>\n",
       "<style scoped>\n",
       "    .dataframe tbody tr th:only-of-type {\n",
       "        vertical-align: middle;\n",
       "    }\n",
       "\n",
       "    .dataframe tbody tr th {\n",
       "        vertical-align: top;\n",
       "    }\n",
       "\n",
       "    .dataframe thead th {\n",
       "        text-align: right;\n",
       "    }\n",
       "</style>\n",
       "<table border=\"1\" class=\"dataframe\">\n",
       "  <thead>\n",
       "    <tr style=\"text-align: right;\">\n",
       "      <th></th>\n",
       "      <th>Data As Of</th>\n",
       "      <th>Start Date</th>\n",
       "      <th>End Date</th>\n",
       "      <th>Group</th>\n",
       "      <th>Year</th>\n",
       "      <th>Month</th>\n",
       "      <th>State</th>\n",
       "      <th>Condition Group</th>\n",
       "      <th>Condition</th>\n",
       "      <th>ICD10_codes</th>\n",
       "      <th>Age Group</th>\n",
       "      <th>COVID-19 Deaths</th>\n",
       "      <th>Number of Mentions</th>\n",
       "      <th>Flag</th>\n",
       "    </tr>\n",
       "  </thead>\n",
       "  <tbody>\n",
       "    <tr>\n",
       "      <th>0</th>\n",
       "      <td>09/24/2023</td>\n",
       "      <td>01/01/2020</td>\n",
       "      <td>09/23/2023</td>\n",
       "      <td>By Total</td>\n",
       "      <td>NaN</td>\n",
       "      <td>NaN</td>\n",
       "      <td>United States</td>\n",
       "      <td>Respiratory diseases</td>\n",
       "      <td>Influenza and pneumonia</td>\n",
       "      <td>J09-J18</td>\n",
       "      <td>0-24</td>\n",
       "      <td>1569.0</td>\n",
       "      <td>1647.0</td>\n",
       "      <td>NaN</td>\n",
       "    </tr>\n",
       "    <tr>\n",
       "      <th>1</th>\n",
       "      <td>09/24/2023</td>\n",
       "      <td>01/01/2020</td>\n",
       "      <td>09/23/2023</td>\n",
       "      <td>By Total</td>\n",
       "      <td>NaN</td>\n",
       "      <td>NaN</td>\n",
       "      <td>United States</td>\n",
       "      <td>Respiratory diseases</td>\n",
       "      <td>Influenza and pneumonia</td>\n",
       "      <td>J09-J18</td>\n",
       "      <td>25-34</td>\n",
       "      <td>5804.0</td>\n",
       "      <td>6029.0</td>\n",
       "      <td>NaN</td>\n",
       "    </tr>\n",
       "    <tr>\n",
       "      <th>2</th>\n",
       "      <td>09/24/2023</td>\n",
       "      <td>01/01/2020</td>\n",
       "      <td>09/23/2023</td>\n",
       "      <td>By Total</td>\n",
       "      <td>NaN</td>\n",
       "      <td>NaN</td>\n",
       "      <td>United States</td>\n",
       "      <td>Respiratory diseases</td>\n",
       "      <td>Influenza and pneumonia</td>\n",
       "      <td>J09-J18</td>\n",
       "      <td>35-44</td>\n",
       "      <td>15080.0</td>\n",
       "      <td>15699.0</td>\n",
       "      <td>NaN</td>\n",
       "    </tr>\n",
       "    <tr>\n",
       "      <th>3</th>\n",
       "      <td>09/24/2023</td>\n",
       "      <td>01/01/2020</td>\n",
       "      <td>09/23/2023</td>\n",
       "      <td>By Total</td>\n",
       "      <td>NaN</td>\n",
       "      <td>NaN</td>\n",
       "      <td>United States</td>\n",
       "      <td>Respiratory diseases</td>\n",
       "      <td>Influenza and pneumonia</td>\n",
       "      <td>J09-J18</td>\n",
       "      <td>45-54</td>\n",
       "      <td>37414.0</td>\n",
       "      <td>38878.0</td>\n",
       "      <td>NaN</td>\n",
       "    </tr>\n",
       "    <tr>\n",
       "      <th>4</th>\n",
       "      <td>09/24/2023</td>\n",
       "      <td>01/01/2020</td>\n",
       "      <td>09/23/2023</td>\n",
       "      <td>By Total</td>\n",
       "      <td>NaN</td>\n",
       "      <td>NaN</td>\n",
       "      <td>United States</td>\n",
       "      <td>Respiratory diseases</td>\n",
       "      <td>Influenza and pneumonia</td>\n",
       "      <td>J09-J18</td>\n",
       "      <td>55-64</td>\n",
       "      <td>82668.0</td>\n",
       "      <td>85708.0</td>\n",
       "      <td>NaN</td>\n",
       "    </tr>\n",
       "  </tbody>\n",
       "</table>\n",
       "</div>"
      ],
      "text/plain": [
       "   Data As Of  Start Date    End Date     Group  Year  Month          State  \\\n",
       "0  09/24/2023  01/01/2020  09/23/2023  By Total   NaN    NaN  United States   \n",
       "1  09/24/2023  01/01/2020  09/23/2023  By Total   NaN    NaN  United States   \n",
       "2  09/24/2023  01/01/2020  09/23/2023  By Total   NaN    NaN  United States   \n",
       "3  09/24/2023  01/01/2020  09/23/2023  By Total   NaN    NaN  United States   \n",
       "4  09/24/2023  01/01/2020  09/23/2023  By Total   NaN    NaN  United States   \n",
       "\n",
       "        Condition Group                Condition ICD10_codes Age Group  \\\n",
       "0  Respiratory diseases  Influenza and pneumonia     J09-J18      0-24   \n",
       "1  Respiratory diseases  Influenza and pneumonia     J09-J18     25-34   \n",
       "2  Respiratory diseases  Influenza and pneumonia     J09-J18     35-44   \n",
       "3  Respiratory diseases  Influenza and pneumonia     J09-J18     45-54   \n",
       "4  Respiratory diseases  Influenza and pneumonia     J09-J18     55-64   \n",
       "\n",
       "   COVID-19 Deaths  Number of Mentions Flag  \n",
       "0           1569.0              1647.0  NaN  \n",
       "1           5804.0              6029.0  NaN  \n",
       "2          15080.0             15699.0  NaN  \n",
       "3          37414.0             38878.0  NaN  \n",
       "4          82668.0             85708.0  NaN  "
      ]
     },
     "execution_count": 73,
     "metadata": {},
     "output_type": "execute_result"
    }
   ],
   "source": [
    "# Checking the dataset\n",
    "df_covid.head()"
   ]
  },
  {
   "cell_type": "code",
   "execution_count": 74,
   "id": "5429df58-01d1-4fe6-a3a3-9a5695cf1a1b",
   "metadata": {},
   "outputs": [
    {
     "name": "stdout",
     "output_type": "stream",
     "text": [
      "<class 'pandas.core.frame.DataFrame'>\n",
      "RangeIndex: 621000 entries, 0 to 620999\n",
      "Data columns (total 14 columns):\n",
      " #   Column              Non-Null Count   Dtype  \n",
      "---  ------              --------------   -----  \n",
      " 0   Data As Of          621000 non-null  object \n",
      " 1   Start Date          621000 non-null  object \n",
      " 2   End Date            621000 non-null  object \n",
      " 3   Group               621000 non-null  object \n",
      " 4   Year                608580 non-null  float64\n",
      " 5   Month               558900 non-null  float64\n",
      " 6   State               621000 non-null  object \n",
      " 7   Condition Group     621000 non-null  object \n",
      " 8   Condition           621000 non-null  object \n",
      " 9   ICD10_codes         621000 non-null  object \n",
      " 10  Age Group           621000 non-null  object \n",
      " 11  COVID-19 Deaths     437551 non-null  float64\n",
      " 12  Number of Mentions  443423 non-null  float64\n",
      " 13  Flag                183449 non-null  object \n",
      "dtypes: float64(4), object(10)\n",
      "memory usage: 66.3+ MB\n"
     ]
    }
   ],
   "source": [
    "df_covid.info()"
   ]
  },
  {
   "cell_type": "code",
   "execution_count": 75,
   "id": "f6383788-62f0-48c6-b383-52e492ae8c98",
   "metadata": {},
   "outputs": [
    {
     "data": {
      "text/plain": [
       "(621000, 14)"
      ]
     },
     "execution_count": 75,
     "metadata": {},
     "output_type": "execute_result"
    }
   ],
   "source": [
    "df_covid.shape"
   ]
  },
  {
   "cell_type": "markdown",
   "id": "9b49c995-b3f7-4321-93af-886539cdd54d",
   "metadata": {},
   "source": [
    "## 3. Data Exploration"
   ]
  },
  {
   "cell_type": "markdown",
   "id": "ca3a0b9a-cb53-4b2a-bcf3-9de0b07dee55",
   "metadata": {},
   "source": [
    "1. Categorical Variables:\n",
    "State\n",
    "Condition Group\n",
    "Condition\n",
    "ICD10_codes\n",
    "Age Group\n",
    "Flag\n",
    "2. Numerical Variables:\n",
    "Year\n",
    "Month\n",
    "COVID-19 Deaths\n",
    "Number of Mentions\n",
    "3. Date Variables:\n",
    "Data As Of\n",
    "Start Date\n",
    "End Date"
   ]
  },
  {
   "cell_type": "code",
   "execution_count": 76,
   "id": "f129d0a1-ddd4-4d12-9cd8-101ee46a0f61",
   "metadata": {},
   "outputs": [
    {
     "data": {
      "text/html": [
       "<div>\n",
       "<style scoped>\n",
       "    .dataframe tbody tr th:only-of-type {\n",
       "        vertical-align: middle;\n",
       "    }\n",
       "\n",
       "    .dataframe tbody tr th {\n",
       "        vertical-align: top;\n",
       "    }\n",
       "\n",
       "    .dataframe thead th {\n",
       "        text-align: right;\n",
       "    }\n",
       "</style>\n",
       "<table border=\"1\" class=\"dataframe\">\n",
       "  <thead>\n",
       "    <tr style=\"text-align: right;\">\n",
       "      <th></th>\n",
       "      <th>Year</th>\n",
       "      <th>Month</th>\n",
       "      <th>COVID-19 Deaths</th>\n",
       "      <th>Number of Mentions</th>\n",
       "    </tr>\n",
       "  </thead>\n",
       "  <tbody>\n",
       "    <tr>\n",
       "      <th>count</th>\n",
       "      <td>608580.000000</td>\n",
       "      <td>558900.000000</td>\n",
       "      <td>4.375510e+05</td>\n",
       "      <td>4.434230e+05</td>\n",
       "    </tr>\n",
       "    <tr>\n",
       "      <th>mean</th>\n",
       "      <td>2021.408163</td>\n",
       "      <td>6.200000</td>\n",
       "      <td>1.201179e+02</td>\n",
       "      <td>1.293348e+02</td>\n",
       "    </tr>\n",
       "    <tr>\n",
       "      <th>std</th>\n",
       "      <td>1.086436</td>\n",
       "      <td>3.350625</td>\n",
       "      <td>2.980201e+03</td>\n",
       "      <td>3.203936e+03</td>\n",
       "    </tr>\n",
       "    <tr>\n",
       "      <th>min</th>\n",
       "      <td>2020.000000</td>\n",
       "      <td>1.000000</td>\n",
       "      <td>0.000000e+00</td>\n",
       "      <td>0.000000e+00</td>\n",
       "    </tr>\n",
       "    <tr>\n",
       "      <th>25%</th>\n",
       "      <td>2020.000000</td>\n",
       "      <td>3.000000</td>\n",
       "      <td>0.000000e+00</td>\n",
       "      <td>0.000000e+00</td>\n",
       "    </tr>\n",
       "    <tr>\n",
       "      <th>50%</th>\n",
       "      <td>2021.000000</td>\n",
       "      <td>6.000000</td>\n",
       "      <td>0.000000e+00</td>\n",
       "      <td>0.000000e+00</td>\n",
       "    </tr>\n",
       "    <tr>\n",
       "      <th>75%</th>\n",
       "      <td>2022.000000</td>\n",
       "      <td>9.000000</td>\n",
       "      <td>1.800000e+01</td>\n",
       "      <td>1.900000e+01</td>\n",
       "    </tr>\n",
       "    <tr>\n",
       "      <th>max</th>\n",
       "      <td>2023.000000</td>\n",
       "      <td>12.000000</td>\n",
       "      <td>1.146242e+06</td>\n",
       "      <td>1.146242e+06</td>\n",
       "    </tr>\n",
       "  </tbody>\n",
       "</table>\n",
       "</div>"
      ],
      "text/plain": [
       "                Year          Month  COVID-19 Deaths  Number of Mentions\n",
       "count  608580.000000  558900.000000     4.375510e+05        4.434230e+05\n",
       "mean     2021.408163       6.200000     1.201179e+02        1.293348e+02\n",
       "std         1.086436       3.350625     2.980201e+03        3.203936e+03\n",
       "min      2020.000000       1.000000     0.000000e+00        0.000000e+00\n",
       "25%      2020.000000       3.000000     0.000000e+00        0.000000e+00\n",
       "50%      2021.000000       6.000000     0.000000e+00        0.000000e+00\n",
       "75%      2022.000000       9.000000     1.800000e+01        1.900000e+01\n",
       "max      2023.000000      12.000000     1.146242e+06        1.146242e+06"
      ]
     },
     "execution_count": 76,
     "metadata": {},
     "output_type": "execute_result"
    }
   ],
   "source": [
    "# Check basic statistics of the dataset\n",
    "df_covid.describe()"
   ]
  },
  {
   "cell_type": "markdown",
   "id": "e47d7d2b-347e-4ad7-bbf1-f326b7c7f7f2",
   "metadata": {},
   "source": [
    "The distributions of Year and Month are as expected, with years ranging from 2020 to 2023 and months from 1 (January) to 12 (December). The columns for COVID-19 Deaths and Number of Mentions show a significant number of zeros (with a median of 0) but also exhibit high maximum values, indicating substantial variability. To better understand the data, I will examine histograms and box plots of the numerical variables."
   ]
  },
  {
   "cell_type": "code",
   "execution_count": 77,
   "id": "d0f8a37b-1b9f-45fa-b662-8668a02135a7",
   "metadata": {},
   "outputs": [
    {
     "data": {
      "image/png": "[encoded data removed]",
      "text/plain": [
       "<Figure size 1500x1500 with 12 Axes>"
      ]
     },
     "metadata": {},
     "output_type": "display_data"
    }
   ],
   "source": [
    "# Plot histograms for all numerical columns\n",
    "df_covid.hist(bins=15, figsize=(15, 15), layout=(4, 3))\n",
    "plt.tight_layout()\n",
    "plt.show()"
   ]
  },
  {
   "cell_type": "code",
   "execution_count": 78,
   "id": "0ba2d5e2-d5fb-4f09-bffa-306bbebf526c",
   "metadata": {},
   "outputs": [
    {
     "data": {
      "image/png": "[encoded data removed]",
      "text/plain": [
       "<Figure size 640x480 with 1 Axes>"
      ]
     },
     "metadata": {},
     "output_type": "display_data"
    },
    {
     "data": {
      "image/png": "[encoded data removed]",
      "text/plain": [
       "<Figure size 640x480 with 1 Axes>"
      ]
     },
     "metadata": {},
     "output_type": "display_data"
    },
    {
     "data": {
      "image/png": "[encoded data removed]",
      "text/plain": [
       "<Figure size 640x480 with 1 Axes>"
      ]
     },
     "metadata": {},
     "output_type": "display_data"
    },
    {
     "data": {
      "image/png": "[encoded data removed]",
      "text/plain": [
       "<Figure size 640x480 with 1 Axes>"
      ]
     },
     "metadata": {},
     "output_type": "display_data"
    }
   ],
   "source": [
    "# Creating box plots for the numerical variables:\n",
    "plt.boxplot(df_covid['Year'].dropna())\n",
    "plt.title('Year')\n",
    "plt.show()\n",
    "\n",
    "plt.boxplot(df_covid['Month'].dropna())\n",
    "plt.title('Month')\n",
    "plt.show()\n",
    "\n",
    "plt.boxplot(df_covid['COVID-19 Deaths'].dropna())\n",
    "plt.title('COVID-19 Deaths')\n",
    "plt.show()\n",
    "\n",
    "plt.boxplot(df_covid['Number of Mentions'].dropna())\n",
    "plt.title('Number of Mentions')\n",
    "plt.show()"
   ]
  },
  {
   "cell_type": "markdown",
   "id": "59f91987-5f27-4554-a496-b1ed09c1b726",
   "metadata": {},
   "source": [
    "Both COVID-19 Deaths and Number of Mentions are found to be highly right-skewed, with a significant number of outliers. The distributions of Year and Month are observed to align with expectations. The frequency counts for the categorical variables will now be examined."
   ]
  },
  {
   "cell_type": "code",
   "execution_count": 79,
   "id": "00f981de-43a9-4b8b-9637-3b7c3b41eb1d",
   "metadata": {},
   "outputs": [
    {
     "name": "stdout",
     "output_type": "stream",
     "text": [
      "State\n",
      "United States           11500\n",
      "Pennsylvania            11500\n",
      "Nevada                  11500\n",
      "New Hampshire           11500\n",
      "New Jersey              11500\n",
      "New Mexico              11500\n",
      "New York                11500\n",
      "New York City           11500\n",
      "North Carolina          11500\n",
      "North Dakota            11500\n",
      "Ohio                    11500\n",
      "Oklahoma                11500\n",
      "Oregon                  11500\n",
      "Rhode Island            11500\n",
      "Alabama                 11500\n",
      "South Carolina          11500\n",
      "South Dakota            11500\n",
      "Tennessee               11500\n",
      "Texas                   11500\n",
      "Utah                    11500\n",
      "Vermont                 11500\n",
      "Virginia                11500\n",
      "Washington              11500\n",
      "West Virginia           11500\n",
      "Wisconsin               11500\n",
      "Wyoming                 11500\n",
      "Nebraska                11500\n",
      "Montana                 11500\n",
      "Missouri                11500\n",
      "Mississippi             11500\n",
      "Alaska                  11500\n",
      "Arizona                 11500\n",
      "Arkansas                11500\n",
      "California              11500\n",
      "Colorado                11500\n",
      "Connecticut             11500\n",
      "Delaware                11500\n",
      "District of Columbia    11500\n",
      "Florida                 11500\n",
      "Georgia                 11500\n",
      "Hawaii                  11500\n",
      "Idaho                   11500\n",
      "Illinois                11500\n",
      "Indiana                 11500\n",
      "Iowa                    11500\n",
      "Kansas                  11500\n",
      "Kentucky                11500\n",
      "Louisiana               11500\n",
      "Maine                   11500\n",
      "Maryland                11500\n",
      "Massachusetts           11500\n",
      "Michigan                11500\n",
      "Minnesota               11500\n",
      "Puerto Rico             11500\n",
      "Name: count, dtype: int64\n",
      "Condition Group\n",
      "Circulatory diseases                                                         189000\n",
      "Respiratory diseases                                                         162000\n",
      "Sepsis                                                                        27000\n",
      "Malignant neoplasms                                                           27000\n",
      "Diabetes                                                                      27000\n",
      "Obesity                                                                       27000\n",
      "Alzheimer disease                                                             27000\n",
      "Vascular and unspecified dementia                                             27000\n",
      "Renal failure                                                                 27000\n",
      "Intentional and unintentional injury, poisoning, and other adverse events     27000\n",
      "All other conditions and causes (residual)                                    27000\n",
      "COVID-19                                                                      27000\n",
      "Name: count, dtype: int64\n",
      "Condition\n",
      "Influenza and pneumonia                                                      27000\n",
      "Other diseases of the circulatory system                                     27000\n",
      "All other conditions and causes (residual)                                   27000\n",
      "Intentional and unintentional injury, poisoning, and other adverse events    27000\n",
      "Renal failure                                                                27000\n",
      "Vascular and unspecified dementia                                            27000\n",
      "Alzheimer disease                                                            27000\n",
      "Obesity                                                                      27000\n",
      "Diabetes                                                                     27000\n",
      "Malignant neoplasms                                                          27000\n",
      "Sepsis                                                                       27000\n",
      "Cerebrovascular diseases                                                     27000\n",
      "Chronic lower respiratory diseases                                           27000\n",
      "Heart failure                                                                27000\n",
      "Cardiac arrhythmia                                                           27000\n",
      "Cardiac arrest                                                               27000\n",
      "Ischemic heart disease                                                       27000\n",
      "Hypertensive diseases                                                        27000\n",
      "Other diseases of the respiratory system                                     27000\n",
      "Respiratory arrest                                                           27000\n",
      "Respiratory failure                                                          27000\n",
      "Adult respiratory distress syndrome                                          27000\n",
      "COVID-19                                                                     27000\n",
      "Name: count, dtype: int64\n",
      "ICD10_codes\n",
      "J09-J18                                                                                                                                                                                 27000\n",
      "I00-I09, I26-I43, I51, I52, I70-I99                                                                                                                                                     27000\n",
      "A00-A39, A42-B99, D00-E07, E15-E64, E70-E90, F00, F02, F04-G26, G31-H95, K00-K93, L00-M99, N00-N16, N20-N98, O00-O99, P00-P96, Q00-Q99, R00-R08, R09.0, R09.1, R09.3, R09.8, R10-R99    27000\n",
      "S00-T98, V01-X59, X60-X84, X85-Y09, Y10-Y36, Y40-Y89, U01-U03                                                                                                                           27000\n",
      "N17-N19                                                                                                                                                                                 27000\n",
      "F01, F03                                                                                                                                                                                27000\n",
      "G30                                                                                                                                                                                     27000\n",
      "E65-E68                                                                                                                                                                                 27000\n",
      "E10-E14                                                                                                                                                                                 27000\n",
      "C00-C97                                                                                                                                                                                 27000\n",
      "A40-A41                                                                                                                                                                                 27000\n",
      "I60-I69                                                                                                                                                                                 27000\n",
      "J40-J47                                                                                                                                                                                 27000\n",
      "I50                                                                                                                                                                                     27000\n",
      "I44, I45, I47-I49                                                                                                                                                                       27000\n",
      "I46                                                                                                                                                                                     27000\n",
      "I20-I25                                                                                                                                                                                 27000\n",
      "I10-I15                                                                                                                                                                                 27000\n",
      "J00-J06, J20-J39, J60-J70, J81-J86, J90-J95, J97-J99, U04                                                                                                                               27000\n",
      "R09.2                                                                                                                                                                                   27000\n",
      "J96                                                                                                                                                                                     27000\n",
      "J80                                                                                                                                                                                     27000\n",
      "U071                                                                                                                                                                                    27000\n",
      "Name: count, dtype: int64\n",
      "Age Group\n",
      "0-24          62100\n",
      "25-34         62100\n",
      "35-44         62100\n",
      "45-54         62100\n",
      "55-64         62100\n",
      "65-74         62100\n",
      "75-84         62100\n",
      "85+           62100\n",
      "Not stated    62100\n",
      "All Ages      62100\n",
      "Name: count, dtype: int64\n",
      "Flag\n",
      "NaN                                                                                                                           437551\n",
      "One or more data cells have counts between 1-9 and have been suppressed in accordance with NCHS confidentiality standards.    183449\n",
      "Name: count, dtype: int64\n"
     ]
    }
   ],
   "source": [
    "# Perform frequency counts on the categorical variables\n",
    "print(df_covid['State'].value_counts(dropna=False))\n",
    "\n",
    "print(df_covid['Condition Group'].value_counts(dropna=False))\n",
    "\n",
    "print(df_covid['Condition'].value_counts(dropna=False))\n",
    "\n",
    "print(df_covid['ICD10_codes'].value_counts(dropna=False))\n",
    "\n",
    "print(df_covid['Age Group'].value_counts(dropna=False))\n",
    "\n",
    "print(df_covid['Flag'].value_counts(dropna=False))"
   ]
  },
  {
   "cell_type": "markdown",
   "id": "df1dd164-327d-422d-bda9-fccc7910a075",
   "metadata": {},
   "source": [
    "The distribution of records appears to be very uniform across states, condition groups, conditions, ICD-10 codes, and age groups. The Flag column is predominantly composed of missing values, which is favorable since the flag indicates that data was suppressed for confidentiality."
   ]
  },
  {
   "cell_type": "markdown",
   "id": "c633843e-bafd-45f6-b0ff-1fdc7c43c4d7",
   "metadata": {},
   "source": [
    "## 4. Checking for Missing Values"
   ]
  },
  {
   "cell_type": "code",
   "execution_count": 80,
   "id": "76c73dde-72b4-48ac-b415-6b6508e5ca0e",
   "metadata": {},
   "outputs": [
    {
     "data": {
      "text/plain": [
       "Data As Of                 0\n",
       "Start Date                 0\n",
       "End Date                   0\n",
       "Group                      0\n",
       "Year                   12420\n",
       "Month                  62100\n",
       "State                      0\n",
       "Condition Group            0\n",
       "Condition                  0\n",
       "ICD10_codes                0\n",
       "Age Group                  0\n",
       "COVID-19 Deaths       183449\n",
       "Number of Mentions    177577\n",
       "Flag                  437551\n",
       "dtype: int64"
      ]
     },
     "execution_count": 80,
     "metadata": {},
     "output_type": "execute_result"
    }
   ],
   "source": [
    "# Check the data for missing values\n",
    "df_covid.isnull().sum()"
   ]
  },
  {
   "cell_type": "markdown",
   "id": "b5e49cd7-fef7-4de4-9a18-0cc86d70b57a",
   "metadata": {},
   "source": [
    "Year: 12,420\n",
    "Month: 62,100\n",
    "COVID-19 Deaths: 183,449\n",
    "Number of Mentions: 177,577\n",
    "Flag: 437,551\n",
    "\n",
    "Upon closer examination of the rows with missing values in the Year column, it is observed that these are all part of the \"By Total\" group, indicating that the Year column is empty because these rows represent an aggregation. Similarly, the missing values in the Month column correspond to instances where the Group column is either \"By Total\" or \"By Year,\" again indicating that these rows represent aggregated data. By removing these rows of aggregated data, the missing values in both the Year and Month columns will be addressed, leading to more accurate descriptive statistics for the dataset."
   ]
  },
  {
   "cell_type": "code",
   "execution_count": 81,
   "id": "61c5106e-d042-4aa3-aa88-605a14e2fcec",
   "metadata": {},
   "outputs": [],
   "source": [
    "# Separate the dataframe into two parts, one that includes Group only \"By Month\" and one that includes Group \"By Total\" and \"By Year\"\n",
    "df_covid_month = df_covid[df_covid['Group'] == 'By Month']\n",
    "df_covid_total_year = df_covid[df_covid['Group'].isin(['By Total', 'By Year'])]"
   ]
  },
  {
   "cell_type": "code",
   "execution_count": 82,
   "id": "5179102f-a770-4ba9-a44e-15d0a8b3691e",
   "metadata": {},
   "outputs": [
    {
     "name": "stdout",
     "output_type": "stream",
     "text": [
      "<class 'pandas.core.frame.DataFrame'>\n",
      "Index: 558900 entries, 62100 to 620999\n",
      "Data columns (total 14 columns):\n",
      " #   Column              Non-Null Count   Dtype  \n",
      "---  ------              --------------   -----  \n",
      " 0   Data As Of          558900 non-null  object \n",
      " 1   Start Date          558900 non-null  object \n",
      " 2   End Date            558900 non-null  object \n",
      " 3   Group               558900 non-null  object \n",
      " 4   Year                558900 non-null  float64\n",
      " 5   Month               558900 non-null  float64\n",
      " 6   State               558900 non-null  object \n",
      " 7   Condition Group     558900 non-null  object \n",
      " 8   Condition           558900 non-null  object \n",
      " 9   ICD10_codes         558900 non-null  object \n",
      " 10  Age Group           558900 non-null  object \n",
      " 11  COVID-19 Deaths     388500 non-null  float64\n",
      " 12  Number of Mentions  393720 non-null  float64\n",
      " 13  Flag                170400 non-null  object \n",
      "dtypes: float64(4), object(10)\n",
      "memory usage: 64.0+ MB\n"
     ]
    }
   ],
   "source": [
    "# Verify the separation\n",
    "df_covid_month.info()"
   ]
  },
  {
   "cell_type": "code",
   "execution_count": 83,
   "id": "e770e610-14ad-433b-afda-1d4fa4e3c99e",
   "metadata": {},
   "outputs": [
    {
     "name": "stdout",
     "output_type": "stream",
     "text": [
      "<class 'pandas.core.frame.DataFrame'>\n",
      "Index: 62100 entries, 0 to 62099\n",
      "Data columns (total 14 columns):\n",
      " #   Column              Non-Null Count  Dtype  \n",
      "---  ------              --------------  -----  \n",
      " 0   Data As Of          62100 non-null  object \n",
      " 1   Start Date          62100 non-null  object \n",
      " 2   End Date            62100 non-null  object \n",
      " 3   Group               62100 non-null  object \n",
      " 4   Year                49680 non-null  float64\n",
      " 5   Month               0 non-null      float64\n",
      " 6   State               62100 non-null  object \n",
      " 7   Condition Group     62100 non-null  object \n",
      " 8   Condition           62100 non-null  object \n",
      " 9   ICD10_codes         62100 non-null  object \n",
      " 10  Age Group           62100 non-null  object \n",
      " 11  COVID-19 Deaths     49051 non-null  float64\n",
      " 12  Number of Mentions  49703 non-null  float64\n",
      " 13  Flag                13049 non-null  object \n",
      "dtypes: float64(4), object(10)\n",
      "memory usage: 7.1+ MB\n"
     ]
    }
   ],
   "source": [
    "df_covid_total_year.info()"
   ]
  },
  {
   "cell_type": "code",
   "execution_count": 84,
   "id": "1f9213a7-6752-4c27-bf8e-8652685caa5c",
   "metadata": {},
   "outputs": [
    {
     "data": {
      "text/plain": [
       "621000"
      ]
     },
     "execution_count": 84,
     "metadata": {},
     "output_type": "execute_result"
    }
   ],
   "source": [
    "# Check the total rows add up correctly\n",
    "len(df_covid)"
   ]
  },
  {
   "cell_type": "code",
   "execution_count": 85,
   "id": "bcb2e498-6650-48ef-8f57-791197e8e91b",
   "metadata": {},
   "outputs": [
    {
     "data": {
      "text/plain": [
       "621000"
      ]
     },
     "execution_count": 85,
     "metadata": {},
     "output_type": "execute_result"
    }
   ],
   "source": [
    "len(df_covid_month) + len(df_covid_total_year)"
   ]
  },
  {
   "cell_type": "markdown",
   "id": "1d019d80-f189-4759-8395-0f9e470db4c4",
   "metadata": {},
   "source": [
    "Recheck the number of missing values in the separated \"df_covid_month\" dataframe"
   ]
  },
  {
   "cell_type": "code",
   "execution_count": 86,
   "id": "19ba96e5-0097-4c37-a8c8-71f62a8a676d",
   "metadata": {},
   "outputs": [
    {
     "data": {
      "text/plain": [
       "Data As Of                 0\n",
       "Start Date                 0\n",
       "End Date                   0\n",
       "Group                      0\n",
       "Year                       0\n",
       "Month                      0\n",
       "State                      0\n",
       "Condition Group            0\n",
       "Condition                  0\n",
       "ICD10_codes                0\n",
       "Age Group                  0\n",
       "COVID-19 Deaths       170400\n",
       "Number of Mentions    165180\n",
       "Flag                  388500\n",
       "dtype: int64"
      ]
     },
     "execution_count": 86,
     "metadata": {},
     "output_type": "execute_result"
    }
   ],
   "source": [
    "# Check for missing values\n",
    "df_covid_month.isnull().sum()"
   ]
  },
  {
   "cell_type": "markdown",
   "id": "8cc08938-1307-48c1-a348-59f4600fa55d",
   "metadata": {},
   "source": [
    "The missing values in the COVID-19 Deaths and Number of Mentions columns appear to correspond with instances where the Flag column indicates, \"One or more data cells have counts between 1-9 and have been suppressed in accordance with NCHS confidentiality standards.\" Therefore, a random number between 1 and 9 will be imputed into the missing values of COVID-19 Deaths and Number of Mentions when the flag indicator is present."
   ]
  },
  {
   "cell_type": "code",
   "execution_count": 87,
   "id": "ad639166-66ca-4828-a470-6b2d2dcea635",
   "metadata": {},
   "outputs": [],
   "source": [
    "# Define a function to generate random integers between 1 and 9\n",
    "def random_1_to_9(series):\n",
    "    return series.apply(lambda x: np.random.randint(1, 10) if pd.isnull(x) else x)"
   ]
  },
  {
   "cell_type": "code",
   "execution_count": 88,
   "id": "09a48e74-db2d-4955-901a-21563a747b73",
   "metadata": {},
   "outputs": [],
   "source": [
    "# Identify rows with suppression flag\n",
    "suppression_message = \"One or more data cells have counts between 1-9 and have been suppressed in accordance with NCHS confidentiality standards.\"\n",
    "suppressed_rows = df_covid_month[df_covid_month['Flag'] == suppression_message]"
   ]
  },
  {
   "cell_type": "code",
   "execution_count": 89,
   "id": "6a106b90-55f9-4cea-ade4-2d99f7ada9bd",
   "metadata": {},
   "outputs": [],
   "source": [
    "# Impute only the missing values in COVID-19 Deaths and Number of Mentions with a random number between 1-9\n",
    "df_covid_month.loc[suppressed_rows.index, 'COVID-19 Deaths'] = random_1_to_9(suppressed_rows['COVID-19 Deaths'])\n",
    "df_covid_month.loc[suppressed_rows.index, 'Number of Mentions'] = random_1_to_9(suppressed_rows['Number of Mentions'])"
   ]
  },
  {
   "cell_type": "markdown",
   "id": "73bf3274-b063-4ca7-9498-c4c39bcef259",
   "metadata": {},
   "source": [
    "Verify the changes by comparing the number of cells with values between 1 and 9 to the number of missing values in each column before imputation."
   ]
  },
  {
   "cell_type": "code",
   "execution_count": 90,
   "id": "d424dadc-7c8c-4373-9a74-fe1c335fc9ce",
   "metadata": {},
   "outputs": [
    {
     "data": {
      "text/html": [
       "<div>\n",
       "<style scoped>\n",
       "    .dataframe tbody tr th:only-of-type {\n",
       "        vertical-align: middle;\n",
       "    }\n",
       "\n",
       "    .dataframe tbody tr th {\n",
       "        vertical-align: top;\n",
       "    }\n",
       "\n",
       "    .dataframe thead th {\n",
       "        text-align: right;\n",
       "    }\n",
       "</style>\n",
       "<table border=\"1\" class=\"dataframe\">\n",
       "  <thead>\n",
       "    <tr style=\"text-align: right;\">\n",
       "      <th></th>\n",
       "      <th>Year</th>\n",
       "      <th>Month</th>\n",
       "      <th>COVID-19 Deaths</th>\n",
       "      <th>Number of Mentions</th>\n",
       "    </tr>\n",
       "  </thead>\n",
       "  <tbody>\n",
       "    <tr>\n",
       "      <th>count</th>\n",
       "      <td>558900.000000</td>\n",
       "      <td>558900.000000</td>\n",
       "      <td>558900.000000</td>\n",
       "      <td>558900.000000</td>\n",
       "    </tr>\n",
       "    <tr>\n",
       "      <th>mean</th>\n",
       "      <td>2021.400000</td>\n",
       "      <td>6.200000</td>\n",
       "      <td>32.240306</td>\n",
       "      <td>35.050997</td>\n",
       "    </tr>\n",
       "    <tr>\n",
       "      <th>std</th>\n",
       "      <td>1.083206</td>\n",
       "      <td>3.350625</td>\n",
       "      <td>483.282489</td>\n",
       "      <td>518.791707</td>\n",
       "    </tr>\n",
       "    <tr>\n",
       "      <th>min</th>\n",
       "      <td>2020.000000</td>\n",
       "      <td>1.000000</td>\n",
       "      <td>0.000000</td>\n",
       "      <td>0.000000</td>\n",
       "    </tr>\n",
       "    <tr>\n",
       "      <th>25%</th>\n",
       "      <td>2020.000000</td>\n",
       "      <td>3.000000</td>\n",
       "      <td>0.000000</td>\n",
       "      <td>0.000000</td>\n",
       "    </tr>\n",
       "    <tr>\n",
       "      <th>50%</th>\n",
       "      <td>2021.000000</td>\n",
       "      <td>6.000000</td>\n",
       "      <td>1.000000</td>\n",
       "      <td>1.000000</td>\n",
       "    </tr>\n",
       "    <tr>\n",
       "      <th>75%</th>\n",
       "      <td>2022.000000</td>\n",
       "      <td>9.000000</td>\n",
       "      <td>8.000000</td>\n",
       "      <td>8.000000</td>\n",
       "    </tr>\n",
       "    <tr>\n",
       "      <th>max</th>\n",
       "      <td>2023.000000</td>\n",
       "      <td>12.000000</td>\n",
       "      <td>105566.000000</td>\n",
       "      <td>105566.000000</td>\n",
       "    </tr>\n",
       "  </tbody>\n",
       "</table>\n",
       "</div>"
      ],
      "text/plain": [
       "                Year          Month  COVID-19 Deaths  Number of Mentions\n",
       "count  558900.000000  558900.000000    558900.000000       558900.000000\n",
       "mean     2021.400000       6.200000        32.240306           35.050997\n",
       "std         1.083206       3.350625       483.282489          518.791707\n",
       "min      2020.000000       1.000000         0.000000            0.000000\n",
       "25%      2020.000000       3.000000         0.000000            0.000000\n",
       "50%      2021.000000       6.000000         1.000000            1.000000\n",
       "75%      2022.000000       9.000000         8.000000            8.000000\n",
       "max      2023.000000      12.000000    105566.000000       105566.000000"
      ]
     },
     "execution_count": 90,
     "metadata": {},
     "output_type": "execute_result"
    }
   ],
   "source": [
    "# Verify the changes by rechecking the descriptive statistics\n",
    "df_covid_month.describe()"
   ]
  },
  {
   "cell_type": "code",
   "execution_count": 91,
   "id": "8f5f9e25-5780-4651-87e2-bf17a7104261",
   "metadata": {},
   "outputs": [
    {
     "name": "stdout",
     "output_type": "stream",
     "text": [
      "COVID-19 Deaths\n",
      "0.0         275134\n",
      "1.0          19308\n",
      "2.0          19181\n",
      "3.0          19145\n",
      "4.0          19066\n",
      "             ...  \n",
      "63446.0          1\n",
      "65477.0          1\n",
      "83984.0          1\n",
      "98080.0          1\n",
      "105566.0         1\n",
      "Name: count, Length: 2726, dtype: int64\n",
      "Number of Mentions\n",
      "0.0         275134\n",
      "1.0          18668\n",
      "2.0          18703\n",
      "3.0          18507\n",
      "4.0          18506\n",
      "             ...  \n",
      "65364.0          1\n",
      "65477.0          1\n",
      "83984.0          1\n",
      "98080.0          1\n",
      "105566.0         1\n",
      "Name: count, Length: 2875, dtype: int64\n"
     ]
    }
   ],
   "source": [
    "# Verify the changes by checking value counts\n",
    "print(df_covid_month['COVID-19 Deaths'].value_counts().sort_index())\n",
    "print(df_covid_month['Number of Mentions'].value_counts().sort_index())"
   ]
  },
  {
   "cell_type": "code",
   "execution_count": 92,
   "id": "394c42cf-9471-4716-8839-2de95bbd63fc",
   "metadata": {},
   "outputs": [
    {
     "data": {
      "text/plain": [
       "Data As Of                 0\n",
       "Start Date                 0\n",
       "End Date                   0\n",
       "Group                      0\n",
       "Year                       0\n",
       "Month                      0\n",
       "State                      0\n",
       "Condition Group            0\n",
       "Condition                  0\n",
       "ICD10_codes                0\n",
       "Age Group                  0\n",
       "COVID-19 Deaths            0\n",
       "Number of Mentions         0\n",
       "Flag                  388500\n",
       "dtype: int64"
      ]
     },
     "execution_count": 92,
     "metadata": {},
     "output_type": "execute_result"
    }
   ],
   "source": [
    "# Recheck for missing values in the dataframe\n",
    "df_covid_month.isnull().sum()"
   ]
  },
  {
   "cell_type": "markdown",
   "id": "9fef6606-8c13-4bff-ab38-1115e55275ef",
   "metadata": {},
   "source": [
    "The only missing values remaining are in the Flag column and are expected, so no further action is necessary."
   ]
  },
  {
   "cell_type": "markdown",
   "id": "0b809a9a-9d10-44d5-a428-ae9637bcc2ff",
   "metadata": {},
   "source": [
    "## 5. Checking for duplicates, mixed-type data, and performing data transformations"
   ]
  },
  {
   "cell_type": "code",
   "execution_count": 93,
   "id": "1016dd34-d7f5-4663-aaa9-8bbc3bdadaeb",
   "metadata": {},
   "outputs": [
    {
     "data": {
      "text/plain": [
       "0"
      ]
     },
     "execution_count": 93,
     "metadata": {},
     "output_type": "execute_result"
    }
   ],
   "source": [
    "# Check for duplicate rows in the dataset\n",
    "df_covid_month.duplicated().sum()"
   ]
  },
  {
   "cell_type": "code",
   "execution_count": 94,
   "id": "891b5b57-6451-43c8-a246-059fbd3078cf",
   "metadata": {},
   "outputs": [
    {
     "name": "stdout",
     "output_type": "stream",
     "text": [
      "No mixed-type data in column: Data As Of\n",
      "No mixed-type data in column: Start Date\n",
      "No mixed-type data in column: End Date\n",
      "No mixed-type data in column: Group\n",
      "No mixed-type data in column: Year\n",
      "No mixed-type data in column: Month\n",
      "No mixed-type data in column: State\n",
      "No mixed-type data in column: Condition Group\n",
      "No mixed-type data in column: Condition\n",
      "No mixed-type data in column: ICD10_codes\n",
      "No mixed-type data in column: Age Group\n",
      "No mixed-type data in column: COVID-19 Deaths\n",
      "No mixed-type data in column: Number of Mentions\n",
      "Mixed-type data found in column: Flag\n"
     ]
    }
   ],
   "source": [
    "# Check for any mixed-type columns\n",
    "for col in df_covid_month.columns.tolist():\n",
    "    weird = (df_covid_month[[col]].map(type) != df_covid_month[[col]].iloc[0].apply(type)).any(axis = 1)\n",
    "    if len (df_covid_month[weird]) > 0:\n",
    "        print (f\"Mixed-type data found in column: {col}\")\n",
    "    else: print(f\"No mixed-type data in column: {col}\")"
   ]
  },
  {
   "cell_type": "code",
   "execution_count": 95,
   "id": "621d1358-1f45-4f3a-ad6e-5a8b0855cb8f",
   "metadata": {},
   "outputs": [
    {
     "name": "stdout",
     "output_type": "stream",
     "text": [
      "Data As Of             object\n",
      "Start Date             object\n",
      "End Date               object\n",
      "Group                  object\n",
      "Year                  float64\n",
      "Month                 float64\n",
      "State                  object\n",
      "Condition Group        object\n",
      "Condition              object\n",
      "ICD10_codes            object\n",
      "Age Group              object\n",
      "COVID-19 Deaths       float64\n",
      "Number of Mentions    float64\n",
      "Flag                   object\n",
      "dtype: object\n"
     ]
    }
   ],
   "source": [
    "# Check the data-types of the dataframe\n",
    "print(df_covid_month.dtypes)"
   ]
  },
  {
   "cell_type": "code",
   "execution_count": 96,
   "id": "fcdd1ba2-a757-41e8-bcdf-1b54b66d74d4",
   "metadata": {},
   "outputs": [],
   "source": [
    "# Convert date columns to datetime\n",
    "df_covid_month.loc[:, 'Data As Of'] = pd.to_datetime(df_covid_month['Data As Of'])\n",
    "df_covid_month.loc[:, 'Start Date'] = pd.to_datetime(df_covid_month['Start Date'])\n",
    "df_covid_month.loc[:, 'End Date'] = pd.to_datetime(df_covid_month['End Date'])"
   ]
  },
  {
   "cell_type": "code",
   "execution_count": 97,
   "id": "4f2ec6cd-6dc0-4036-8708-56576c6cdffa",
   "metadata": {},
   "outputs": [],
   "source": [
    "# Convert categorical columns to category type for improved memory efficiency using .loc \n",
    "categorical_columns = ['State', 'Condition Group', 'Condition', 'ICD10_codes', 'Age Group', 'Flag']\n",
    "for column in categorical_columns:\n",
    "    df_covid_month.loc[:, column] = df_covid_month[column].astype('category')"
   ]
  },
  {
   "cell_type": "code",
   "execution_count": 98,
   "id": "cedca720-cf83-4a06-ad78-8e5c435bc832",
   "metadata": {},
   "outputs": [
    {
     "name": "stdout",
     "output_type": "stream",
     "text": [
      "No mixed-type data in column: Data As Of\n",
      "No mixed-type data in column: Start Date\n",
      "No mixed-type data in column: End Date\n",
      "No mixed-type data in column: Group\n",
      "No mixed-type data in column: Year\n",
      "No mixed-type data in column: Month\n",
      "No mixed-type data in column: State\n",
      "No mixed-type data in column: Condition Group\n",
      "No mixed-type data in column: Condition\n",
      "No mixed-type data in column: ICD10_codes\n",
      "No mixed-type data in column: Age Group\n",
      "No mixed-type data in column: COVID-19 Deaths\n",
      "No mixed-type data in column: Number of Mentions\n",
      "Mixed-type data found in column: Flag\n"
     ]
    }
   ],
   "source": [
    "# Recheck for mixed-type data\n",
    "for col in df_covid_month.columns.tolist():\n",
    "    weird = (df_covid_month[[col]].map(type) != df_covid_month[[col]].iloc[0].apply(type)).any(axis = 1)\n",
    "    if len (df_covid_month[weird]) > 0:\n",
    "        print (f\"Mixed-type data found in column: {col}\")\n",
    "    else: print(f\"No mixed-type data in column: {col}\")"
   ]
  },
  {
   "cell_type": "code",
   "execution_count": 99,
   "id": "81c180bd-2fc4-4d76-b988-795f0974e40b",
   "metadata": {},
   "outputs": [
    {
     "name": "stdout",
     "output_type": "stream",
     "text": [
      "Data As Of             object\n",
      "Start Date             object\n",
      "End Date               object\n",
      "Group                  object\n",
      "Year                  float64\n",
      "Month                 float64\n",
      "State                  object\n",
      "Condition Group        object\n",
      "Condition              object\n",
      "ICD10_codes            object\n",
      "Age Group              object\n",
      "COVID-19 Deaths       float64\n",
      "Number of Mentions    float64\n",
      "Flag                   object\n",
      "dtype: object\n"
     ]
    }
   ],
   "source": [
    "# Recheck the data-types\n",
    "print(df_covid_month.dtypes)"
   ]
  },
  {
   "cell_type": "code",
   "execution_count": 100,
   "id": "2fdf53a2-236b-406e-9dab-6e80ec6ed607",
   "metadata": {},
   "outputs": [],
   "source": [
    "# Drop the Group column as it only contains \"By Month\" and is no longer necessary for sorting/filtering\n",
    "df_covid_month = df_covid_month.drop(columns=['Group'])"
   ]
  },
  {
   "cell_type": "code",
   "execution_count": 101,
   "id": "6f55bc32-8730-4a44-8eca-c616eec200d0",
   "metadata": {},
   "outputs": [
    {
     "name": "stdout",
     "output_type": "stream",
     "text": [
      "Index(['Data As Of', 'Start Date', 'End Date', 'Year', 'Month', 'State',\n",
      "       'Condition Group', 'Condition', 'ICD10_codes', 'Age Group',\n",
      "       'COVID-19 Deaths', 'Number of Mentions', 'Flag'],\n",
      "      dtype='object')\n"
     ]
    }
   ],
   "source": [
    "# Verify the changes\n",
    "print(df_covid_month.columns)"
   ]
  },
  {
   "cell_type": "markdown",
   "id": "7584a2a8-64a6-4f3f-a96d-df67ea544c2f",
   "metadata": {},
   "source": [
    "## 6. Addressing errors and inconsistencies"
   ]
  },
  {
   "cell_type": "markdown",
   "id": "ae36a042-beba-45dd-95ab-dbb93bd1fcb7",
   "metadata": {},
   "source": [
    "Check the data for inconsistencies by reviewing the unique values of categorical columns and the basic statistics of numerical columns."
   ]
  },
  {
   "cell_type": "code",
   "execution_count": 102,
   "id": "cfc75e49-b3e0-4f6e-ac66-dc76627bfcea",
   "metadata": {},
   "outputs": [
    {
     "name": "stdout",
     "output_type": "stream",
     "text": [
      "\n",
      "Column: State\n",
      "Number of unique values: 54\n",
      "Unique values:\n",
      "  - United States\n",
      "  - Alabama\n",
      "  - Alaska\n",
      "  - Arizona\n",
      "  - Arkansas\n",
      "  - California\n",
      "  - Colorado\n",
      "  - Connecticut\n",
      "  - Delaware\n",
      "  - District of Columbia\n",
      "  - Florida\n",
      "  - Georgia\n",
      "  - Hawaii\n",
      "  - Idaho\n",
      "  - Illinois\n",
      "  - Indiana\n",
      "  - Iowa\n",
      "  - Kansas\n",
      "  - Kentucky\n",
      "  - Louisiana\n",
      "  - Maine\n",
      "  - Maryland\n",
      "  - Massachusetts\n",
      "  - Michigan\n",
      "  - Minnesota\n",
      "  - Mississippi\n",
      "  - Missouri\n",
      "  - Montana\n",
      "  - Nebraska\n",
      "  - Nevada\n",
      "  - New Hampshire\n",
      "  - New Jersey\n",
      "  - New Mexico\n",
      "  - New York\n",
      "  - New York City\n",
      "  - North Carolina\n",
      "  - North Dakota\n",
      "  - Ohio\n",
      "  - Oklahoma\n",
      "  - Oregon\n",
      "  - Pennsylvania\n",
      "  - Rhode Island\n",
      "  - South Carolina\n",
      "  - South Dakota\n",
      "  - Tennessee\n",
      "  - Texas\n",
      "  - Utah\n",
      "  - Vermont\n",
      "  - Virginia\n",
      "  - Washington\n",
      "  - West Virginia\n",
      "  - Wisconsin\n",
      "  - Wyoming\n",
      "  - Puerto Rico\n",
      "\n",
      "Column: Condition Group\n",
      "Number of unique values: 12\n",
      "Unique values:\n",
      "  - Respiratory diseases\n",
      "  - Circulatory diseases\n",
      "  - Sepsis\n",
      "  - Malignant neoplasms\n",
      "  - Diabetes\n",
      "  - Obesity\n",
      "  - Alzheimer disease\n",
      "  - Vascular and unspecified dementia\n",
      "  - Renal failure\n",
      "  - Intentional and unintentional injury, poisoning, and other adverse events\n",
      "  - All other conditions and causes (residual)\n",
      "  - COVID-19\n",
      "\n",
      "Column: Condition\n",
      "Number of unique values: 23\n",
      "Unique values:\n",
      "  - Influenza and pneumonia\n",
      "  - Chronic lower respiratory diseases\n",
      "  - Adult respiratory distress syndrome\n",
      "  - Respiratory failure\n",
      "  - Respiratory arrest\n",
      "  - Other diseases of the respiratory system\n",
      "  - Hypertensive diseases\n",
      "  - Ischemic heart disease\n",
      "  - Cardiac arrest\n",
      "  - Cardiac arrhythmia\n",
      "  - Heart failure\n",
      "  - Cerebrovascular diseases\n",
      "  - Other diseases of the circulatory system\n",
      "  - Sepsis\n",
      "  - Malignant neoplasms\n",
      "  - Diabetes\n",
      "  - Obesity\n",
      "  - Alzheimer disease\n",
      "  - Vascular and unspecified dementia\n",
      "  - Renal failure\n",
      "  - Intentional and unintentional injury, poisoning, and other adverse events\n",
      "  - All other conditions and causes (residual)\n",
      "  - COVID-19\n",
      "\n",
      "Column: ICD10_codes\n",
      "Number of unique values: 23\n",
      "Unique values:\n",
      "  - J09-J18\n",
      "  - J40-J47\n",
      "  - J80\n",
      "  - J96\n",
      "  - R09.2\n",
      "  - J00-J06, J20-J39, J60-J70, J81-J86, J90-J95, J97-J99, U04\n",
      "  - I10-I15\n",
      "  - I20-I25\n",
      "  - I46\n",
      "  - I44, I45, I47-I49\n",
      "  - I50\n",
      "  - I60-I69\n",
      "  - I00-I09, I26-I43, I51, I52, I70-I99\n",
      "  - A40-A41\n",
      "  - C00-C97\n",
      "  - E10-E14\n",
      "  - E65-E68\n",
      "  - G30\n",
      "  - F01, F03\n",
      "  - N17-N19\n",
      "  - S00-T98, V01-X59, X60-X84, X85-Y09, Y10-Y36, Y40-Y89, U01-U03\n",
      "  - A00-A39, A42-B99, D00-E07, E15-E64, E70-E90, F00, F02, F04-G26, G31-H95, K00-K93, L00-M99, N00-N16, N20-N98, O00-O99, P00-P96, Q00-Q99, R00-R08, R09.0, R09.1, R09.3, R09.8, R10-R99\n",
      "  - U071\n",
      "\n",
      "Column: Age Group\n",
      "Number of unique values: 10\n",
      "Unique values:\n",
      "  - 0-24\n",
      "  - 25-34\n",
      "  - 35-44\n",
      "  - 45-54\n",
      "  - 55-64\n",
      "  - 65-74\n",
      "  - 75-84\n",
      "  - 85+\n",
      "  - Not stated\n",
      "  - All Ages\n",
      "\n",
      "Column: Flag\n",
      "Number of unique values: 2\n",
      "Unique values:\n",
      "  - nan\n",
      "  - One or more data cells have counts between 1-9 and have been suppressed in accordance with NCHS confidentiality standards.\n"
     ]
    }
   ],
   "source": [
    "# Unique values for categorical columns\n",
    "unique_covid = {col: df_covid_month[col].unique() for col in ['State', 'Condition Group', 'Condition', 'ICD10_codes', 'Age Group', 'Flag']}\n",
    "for col, values in unique_covid.items():\n",
    "    print(f\"\\nColumn: {col}\")\n",
    "    print(f\"Number of unique values: {len(values)}\")\n",
    "    print(\"Unique values:\")\n",
    "    for value in values:\n",
    "        print(f\"  - {value}\")"
   ]
  },
  {
   "cell_type": "markdown",
   "id": "4ad04f04-e00a-4f3e-8c7f-97bea321ee5d",
   "metadata": {},
   "source": [
    "The State column will be cleaned by removing the aggregated rows under the \"United States\" entry. Since New York City data is excluded from the New York state data, the NYC rows will be retained in the DataFrame. Puerto Rico will be removed from the DataFrame to focus the analysis on the US States, while the District of Columbia will be retained for now."
   ]
  },
  {
   "cell_type": "code",
   "execution_count": 103,
   "id": "1e820681-4ee9-445e-be9f-1777de3b194d",
   "metadata": {},
   "outputs": [],
   "source": [
    "# Filter out rows where State is \"United States\", \"New York City\", or \"Puerto Rico\"\n",
    "df_covid_states = df_covid_month[~df_covid_month['State'].isin(['United States', 'Puerto Rico'])]"
   ]
  },
  {
   "cell_type": "markdown",
   "id": "dca94c8d-3d07-40e8-80c7-8c362d5d934f",
   "metadata": {},
   "source": [
    "The Age Group \"All Ages\" represents aggregated data, and those rows will be removed to maintain consistency with the removal of other aggregated data rows in the DataFrame."
   ]
  },
  {
   "cell_type": "code",
   "execution_count": 104,
   "id": "1dcbaa0d-f92e-4fbe-ad34-5497907754a2",
   "metadata": {},
   "outputs": [],
   "source": [
    "# Remove rows where Age Group is \"All Ages\"\n",
    "df_covid_cleaned = df_covid_states[df_covid_states['Age Group'] != 'All Ages']"
   ]
  },
  {
   "cell_type": "markdown",
   "id": "ef84c141-fe81-4a24-9d1b-9bf5be451c3c",
   "metadata": {},
   "source": [
    "Upon closer inspection of the \"Not stated\" entry in the Age Group column, it is observed that these rows consistently have zero COVID-19 Deaths and zero Number of Mentions. Since rows with an Age Group of \"Not stated\" do not contribute meaningful information to the analysis due to the lack of associated deaths or mentions, they will be removed."
   ]
  },
  {
   "cell_type": "code",
   "execution_count": 105,
   "id": "21e7d39d-8cd7-44ba-a003-3c965006b922",
   "metadata": {},
   "outputs": [],
   "source": [
    "# Remove rows where Age Group is \"Not stated\"\n",
    "df_covid_final_cleaned = df_covid_cleaned[df_covid_cleaned['Age Group'] != 'Not stated']"
   ]
  },
  {
   "cell_type": "code",
   "execution_count": 133,
   "id": "2de1adc2-b360-40cd-8378-76383ade8f64",
   "metadata": {},
   "outputs": [
    {
     "name": "stdout",
     "output_type": "stream",
     "text": [
      "\n",
      "Column: State\n",
      "Number of unique values: 52\n",
      "Unique values:\n",
      "  - Alabama\n",
      "  - Alaska\n",
      "  - Arizona\n",
      "  - Arkansas\n",
      "  - California\n",
      "  - Colorado\n",
      "  - Connecticut\n",
      "  - Delaware\n",
      "  - District of Columbia\n",
      "  - Florida\n",
      "  - Georgia\n",
      "  - Hawaii\n",
      "  - Idaho\n",
      "  - Illinois\n",
      "  - Indiana\n",
      "  - Iowa\n",
      "  - Kansas\n",
      "  - Kentucky\n",
      "  - Louisiana\n",
      "  - Maine\n",
      "  - Maryland\n",
      "  - Massachusetts\n",
      "  - Michigan\n",
      "  - Minnesota\n",
      "  - Mississippi\n",
      "  - Missouri\n",
      "  - Montana\n",
      "  - Nebraska\n",
      "  - Nevada\n",
      "  - New Hampshire\n",
      "  - New Jersey\n",
      "  - New Mexico\n",
      "  - New York\n",
      "  - New York City\n",
      "  - North Carolina\n",
      "  - North Dakota\n",
      "  - Ohio\n",
      "  - Oklahoma\n",
      "  - Oregon\n",
      "  - Pennsylvania\n",
      "  - Rhode Island\n",
      "  - South Carolina\n",
      "  - South Dakota\n",
      "  - Tennessee\n",
      "  - Texas\n",
      "  - Utah\n",
      "  - Vermont\n",
      "  - Virginia\n",
      "  - Washington\n",
      "  - West Virginia\n",
      "  - Wisconsin\n",
      "  - Wyoming\n",
      "\n",
      "Column: Condition Group\n",
      "Number of unique values: 12\n",
      "Unique values:\n",
      "  - Respiratory diseases\n",
      "  - Circulatory diseases\n",
      "  - Sepsis\n",
      "  - Malignant neoplasms\n",
      "  - Diabetes\n",
      "  - Obesity\n",
      "  - Alzheimer disease\n",
      "  - Vascular and unspecified dementia\n",
      "  - Renal failure\n",
      "  - Intentional and unintentional injury, poisoning, and other adverse events\n",
      "  - All other conditions and causes (residual)\n",
      "  - COVID-19\n",
      "\n",
      "Column: Condition\n",
      "Number of unique values: 23\n",
      "Unique values:\n",
      "  - Influenza and pneumonia\n",
      "  - Chronic lower respiratory diseases\n",
      "  - Adult respiratory distress syndrome\n",
      "  - Respiratory failure\n",
      "  - Respiratory arrest\n",
      "  - Other diseases of the respiratory system\n",
      "  - Hypertensive diseases\n",
      "  - Ischemic heart disease\n",
      "  - Cardiac arrest\n",
      "  - Cardiac arrhythmia\n",
      "  - Heart failure\n",
      "  - Cerebrovascular diseases\n",
      "  - Other diseases of the circulatory system\n",
      "  - Sepsis\n",
      "  - Malignant neoplasms\n",
      "  - Diabetes\n",
      "  - Obesity\n",
      "  - Alzheimer disease\n",
      "  - Vascular and unspecified dementia\n",
      "  - Renal failure\n",
      "  - Intentional and unintentional injury, poisoning, and other adverse events\n",
      "  - All other conditions and causes (residual)\n",
      "  - COVID-19\n",
      "\n",
      "Column: ICD10_codes\n",
      "Number of unique values: 23\n",
      "Unique values:\n",
      "  - J09-J18\n",
      "  - J40-J47\n",
      "  - J80\n",
      "  - J96\n",
      "  - R09.2\n",
      "  - J00-J06, J20-J39, J60-J70, J81-J86, J90-J95, J97-J99, U04\n",
      "  - I10-I15\n",
      "  - I20-I25\n",
      "  - I46\n",
      "  - I44, I45, I47-I49\n",
      "  - I50\n",
      "  - I60-I69\n",
      "  - I00-I09, I26-I43, I51, I52, I70-I99\n",
      "  - A40-A41\n",
      "  - C00-C97\n",
      "  - E10-E14\n",
      "  - E65-E68\n",
      "  - G30\n",
      "  - F01, F03\n",
      "  - N17-N19\n",
      "  - S00-T98, V01-X59, X60-X84, X85-Y09, Y10-Y36, Y40-Y89, U01-U03\n",
      "  - A00-A39, A42-B99, D00-E07, E15-E64, E70-E90, F00, F02, F04-G26, G31-H95, K00-K93, L00-M99, N00-N16, N20-N98, O00-O99, P00-P96, Q00-Q99, R00-R08, R09.0, R09.1, R09.3, R09.8, R10-R99\n",
      "  - U071\n",
      "\n",
      "Column: Age Group\n",
      "Number of unique values: 8\n",
      "Unique values:\n",
      "  - 0-24\n",
      "  - 25-34\n",
      "  - 35-44\n",
      "  - 45-54\n",
      "  - 55-64\n",
      "  - 65-74\n",
      "  - 75-84\n",
      "  - 85+\n",
      "\n",
      "Column: Flag\n",
      "Number of unique values: 2\n",
      "Unique values:\n",
      "  - 0\n",
      "  - One or more data cells have counts between 1-9 and have been suppressed in accordance with NCHS confidentiality standards.\n"
     ]
    }
   ],
   "source": [
    "# Recheck the unique values for categorical columns\n",
    "unique_covid_cleaned = {col: df_covid_final_cleaned[col].unique() for col in ['State', 'Condition Group', 'Condition', 'ICD10_codes', 'Age Group', 'Flag']}\n",
    "for col, values in unique_covid_cleaned.items():\n",
    "    print(f\"\\nColumn: {col}\")\n",
    "    print(f\"Number of unique values: {len(values)}\")\n",
    "    print(\"Unique values:\")\n",
    "    for value in values:\n",
    "        print(f\"  - {value}\")"
   ]
  },
  {
   "cell_type": "markdown",
   "id": "eb4917fc-bc8f-49ad-abee-adf3f1c2272f",
   "metadata": {},
   "source": [
    "Checking statistics of the numerical columns"
   ]
  },
  {
   "cell_type": "code",
   "execution_count": 150,
   "id": "ccdfe317-3564-412f-b62e-f0ad09f60ab9",
   "metadata": {},
   "outputs": [
    {
     "data": {
      "text/html": [
       "<div>\n",
       "<style scoped>\n",
       "    .dataframe tbody tr th:only-of-type {\n",
       "        vertical-align: middle;\n",
       "    }\n",
       "\n",
       "    .dataframe tbody tr th {\n",
       "        vertical-align: top;\n",
       "    }\n",
       "\n",
       "    .dataframe thead th {\n",
       "        text-align: right;\n",
       "    }\n",
       "</style>\n",
       "<table border=\"1\" class=\"dataframe\">\n",
       "  <thead>\n",
       "    <tr style=\"text-align: right;\">\n",
       "      <th></th>\n",
       "      <th>Year</th>\n",
       "      <th>Month</th>\n",
       "      <th>COVID-19 Deaths</th>\n",
       "      <th>Number of Mentions</th>\n",
       "    </tr>\n",
       "  </thead>\n",
       "  <tbody>\n",
       "    <tr>\n",
       "      <th>count</th>\n",
       "      <td>430560.000000</td>\n",
       "      <td>430560.000000</td>\n",
       "      <td>430560.000000</td>\n",
       "      <td>430560.000000</td>\n",
       "    </tr>\n",
       "    <tr>\n",
       "      <th>mean</th>\n",
       "      <td>2021.400000</td>\n",
       "      <td>6.200000</td>\n",
       "      <td>10.907771</td>\n",
       "      <td>11.778444</td>\n",
       "    </tr>\n",
       "    <tr>\n",
       "      <th>std</th>\n",
       "      <td>1.083206</td>\n",
       "      <td>3.350626</td>\n",
       "      <td>53.958885</td>\n",
       "      <td>57.090893</td>\n",
       "    </tr>\n",
       "    <tr>\n",
       "      <th>min</th>\n",
       "      <td>2020.000000</td>\n",
       "      <td>1.000000</td>\n",
       "      <td>0.000000</td>\n",
       "      <td>0.000000</td>\n",
       "    </tr>\n",
       "    <tr>\n",
       "      <th>25%</th>\n",
       "      <td>2020.000000</td>\n",
       "      <td>3.000000</td>\n",
       "      <td>0.000000</td>\n",
       "      <td>0.000000</td>\n",
       "    </tr>\n",
       "    <tr>\n",
       "      <th>50%</th>\n",
       "      <td>2021.000000</td>\n",
       "      <td>6.000000</td>\n",
       "      <td>1.000000</td>\n",
       "      <td>1.000000</td>\n",
       "    </tr>\n",
       "    <tr>\n",
       "      <th>75%</th>\n",
       "      <td>2022.000000</td>\n",
       "      <td>9.000000</td>\n",
       "      <td>7.000000</td>\n",
       "      <td>8.000000</td>\n",
       "    </tr>\n",
       "    <tr>\n",
       "      <th>max</th>\n",
       "      <td>2023.000000</td>\n",
       "      <td>12.000000</td>\n",
       "      <td>5094.000000</td>\n",
       "      <td>5094.000000</td>\n",
       "    </tr>\n",
       "  </tbody>\n",
       "</table>\n",
       "</div>"
      ],
      "text/plain": [
       "                Year          Month  COVID-19 Deaths  Number of Mentions\n",
       "count  430560.000000  430560.000000    430560.000000       430560.000000\n",
       "mean     2021.400000       6.200000        10.907771           11.778444\n",
       "std         1.083206       3.350626        53.958885           57.090893\n",
       "min      2020.000000       1.000000         0.000000            0.000000\n",
       "25%      2020.000000       3.000000         0.000000            0.000000\n",
       "50%      2021.000000       6.000000         1.000000            1.000000\n",
       "75%      2022.000000       9.000000         7.000000            8.000000\n",
       "max      2023.000000      12.000000      5094.000000         5094.000000"
      ]
     },
     "execution_count": 150,
     "metadata": {},
     "output_type": "execute_result"
    }
   ],
   "source": [
    "# Statistical summaries for numerical columns\n",
    "df_covid_final_cleaned[['Year', 'Month', 'COVID-19 Deaths', 'Number of Mentions']].describe()"
   ]
  },
  {
   "cell_type": "markdown",
   "id": "74c9df16-32d0-4617-8142-0f215f34b846",
   "metadata": {},
   "source": [
    "Summary Statistics:\n",
    "\n",
    "Year and Month: The data is represented from 2020 to 2023. All months from January (1) to December (12) are included, except for 2023, where data collection was completed in September (9).\n",
    "COVID-19 Deaths and Number of Mentions: Mean values are noted to be relatively low in comparison to the maximum values. High standard deviations are observed for both columns, indicating significant variability. The median value for both columns is 1, suggesting that at least half of the entries have non-zero values."
   ]
  },
  {
   "cell_type": "markdown",
   "id": "42db3684-d957-44c5-a7e0-613cc6d1d9db",
   "metadata": {},
   "source": [
    "## 7.Checking the Outliers"
   ]
  },
  {
   "cell_type": "markdown",
   "id": "2a08ac06-a7dd-423d-9c41-804e4dfb4699",
   "metadata": {},
   "source": [
    "Check all numerical columns for outliers according to the IQR method."
   ]
  },
  {
   "cell_type": "code",
   "execution_count": 152,
   "id": "6f5b3f15-1a6c-4653-ba3b-2e72de0e4373",
   "metadata": {},
   "outputs": [],
   "source": [
    "# First, define a function to identify outliers in numerical columns according to the IQR\n",
    "def find_column_outliers_IQR(df, column):\n",
    "    # Calculate Q1, Q3 and IQR\n",
    "    Q1 = df[column].quantile(0.25)\n",
    "    Q3 = df[column].quantile(0.75)\n",
    "    IQR = Q3 - Q1\n",
    "    \n",
    "    # Define bounds for outliers\n",
    "    lower_bound = Q1 - 1.5 * IQR\n",
    "    upper_bound = Q3 + 1.5 * IQR\n",
    "    \n",
    "    # Find indices of outliers\n",
    "    outlier_indices = df[(df[column] < lower_bound) | (df[column] > upper_bound)].index\n",
    "    \n",
    "    return df.loc[outlier_indices]"
   ]
  },
  {
   "cell_type": "markdown",
   "id": "2b536bc2-06bb-4353-8bc7-de7531d960e6",
   "metadata": {},
   "source": [
    "The function can now be used to check for outliers in the numerical variables:"
   ]
  },
  {
   "cell_type": "code",
   "execution_count": 153,
   "id": "0a6d44d5-c086-4bea-bf33-7b544d396aa8",
   "metadata": {},
   "outputs": [
    {
     "data": {
      "text/html": [
       "<div>\n",
       "<style scoped>\n",
       "    .dataframe tbody tr th:only-of-type {\n",
       "        vertical-align: middle;\n",
       "    }\n",
       "\n",
       "    .dataframe tbody tr th {\n",
       "        vertical-align: top;\n",
       "    }\n",
       "\n",
       "    .dataframe thead th {\n",
       "        text-align: right;\n",
       "    }\n",
       "</style>\n",
       "<table border=\"1\" class=\"dataframe\">\n",
       "  <thead>\n",
       "    <tr style=\"text-align: right;\">\n",
       "      <th></th>\n",
       "      <th>Data As Of</th>\n",
       "      <th>Start Date</th>\n",
       "      <th>End Date</th>\n",
       "      <th>Year</th>\n",
       "      <th>Month</th>\n",
       "      <th>State</th>\n",
       "      <th>Condition Group</th>\n",
       "      <th>Condition</th>\n",
       "      <th>ICD10_codes</th>\n",
       "      <th>Age Group</th>\n",
       "      <th>COVID-19 Deaths</th>\n",
       "      <th>Number of Mentions</th>\n",
       "      <th>Flag</th>\n",
       "    </tr>\n",
       "  </thead>\n",
       "  <tbody>\n",
       "  </tbody>\n",
       "</table>\n",
       "</div>"
      ],
      "text/plain": [
       "Empty DataFrame\n",
       "Columns: [Data As Of, Start Date, End Date, Year, Month, State, Condition Group, Condition, ICD10_codes, Age Group, COVID-19 Deaths, Number of Mentions, Flag]\n",
       "Index: []"
      ]
     },
     "execution_count": 153,
     "metadata": {},
     "output_type": "execute_result"
    }
   ],
   "source": [
    "# Check for outliers in Year\n",
    "year_outliers = find_column_outliers_IQR(df_covid_final_cleaned, 'Year')\n",
    "year_outliers"
   ]
  },
  {
   "cell_type": "markdown",
   "id": "51bafab3-f82e-4e5a-a53e-885baf57d8d1",
   "metadata": {},
   "source": [
    "No outliers found by IQR method in the \"Year\" column"
   ]
  },
  {
   "cell_type": "code",
   "execution_count": 154,
   "id": "a0dd2bde-1fe7-4210-81af-e2fd62020b25",
   "metadata": {},
   "outputs": [
    {
     "data": {
      "text/html": [
       "<div>\n",
       "<style scoped>\n",
       "    .dataframe tbody tr th:only-of-type {\n",
       "        vertical-align: middle;\n",
       "    }\n",
       "\n",
       "    .dataframe tbody tr th {\n",
       "        vertical-align: top;\n",
       "    }\n",
       "\n",
       "    .dataframe thead th {\n",
       "        text-align: right;\n",
       "    }\n",
       "</style>\n",
       "<table border=\"1\" class=\"dataframe\">\n",
       "  <thead>\n",
       "    <tr style=\"text-align: right;\">\n",
       "      <th></th>\n",
       "      <th>Data As Of</th>\n",
       "      <th>Start Date</th>\n",
       "      <th>End Date</th>\n",
       "      <th>Year</th>\n",
       "      <th>Month</th>\n",
       "      <th>State</th>\n",
       "      <th>Condition Group</th>\n",
       "      <th>Condition</th>\n",
       "      <th>ICD10_codes</th>\n",
       "      <th>Age Group</th>\n",
       "      <th>COVID-19 Deaths</th>\n",
       "      <th>Number of Mentions</th>\n",
       "      <th>Flag</th>\n",
       "    </tr>\n",
       "  </thead>\n",
       "  <tbody>\n",
       "  </tbody>\n",
       "</table>\n",
       "</div>"
      ],
      "text/plain": [
       "Empty DataFrame\n",
       "Columns: [Data As Of, Start Date, End Date, Year, Month, State, Condition Group, Condition, ICD10_codes, Age Group, COVID-19 Deaths, Number of Mentions, Flag]\n",
       "Index: []"
      ]
     },
     "execution_count": 154,
     "metadata": {},
     "output_type": "execute_result"
    }
   ],
   "source": [
    "# Check for outliers in \"Month\"\n",
    "month_outliers = find_column_outliers_IQR(df_covid_final_cleaned, 'Month')\n",
    "month_outliers"
   ]
  },
  {
   "cell_type": "markdown",
   "id": "3511dc7f-839e-4e8e-af72-0b979bea354e",
   "metadata": {},
   "source": [
    "No outliers found by IQR method in the \"Month\" column"
   ]
  },
  {
   "cell_type": "code",
   "execution_count": 156,
   "id": "658335be-f8a3-4da3-98b4-e7aee7c10115",
   "metadata": {},
   "outputs": [
    {
     "data": {
      "text/html": [
       "<div>\n",
       "<style scoped>\n",
       "    .dataframe tbody tr th:only-of-type {\n",
       "        vertical-align: middle;\n",
       "    }\n",
       "\n",
       "    .dataframe tbody tr th {\n",
       "        vertical-align: top;\n",
       "    }\n",
       "\n",
       "    .dataframe thead th {\n",
       "        text-align: right;\n",
       "    }\n",
       "</style>\n",
       "<table border=\"1\" class=\"dataframe\">\n",
       "  <thead>\n",
       "    <tr style=\"text-align: right;\">\n",
       "      <th></th>\n",
       "      <th>Data As Of</th>\n",
       "      <th>Start Date</th>\n",
       "      <th>End Date</th>\n",
       "      <th>Year</th>\n",
       "      <th>Month</th>\n",
       "      <th>State</th>\n",
       "      <th>Condition Group</th>\n",
       "      <th>Condition</th>\n",
       "      <th>ICD10_codes</th>\n",
       "      <th>Age Group</th>\n",
       "      <th>COVID-19 Deaths</th>\n",
       "      <th>Number of Mentions</th>\n",
       "      <th>Flag</th>\n",
       "    </tr>\n",
       "  </thead>\n",
       "  <tbody>\n",
       "    <tr>\n",
       "      <th>72514</th>\n",
       "      <td>2023-09-24 00:00:00</td>\n",
       "      <td>2021-08-01 00:00:00</td>\n",
       "      <td>2021-08-31 00:00:00</td>\n",
       "      <td>2021</td>\n",
       "      <td>8.0</td>\n",
       "      <td>Alabama</td>\n",
       "      <td>Respiratory diseases</td>\n",
       "      <td>Influenza and pneumonia</td>\n",
       "      <td>J09-J18</td>\n",
       "      <td>25-34</td>\n",
       "      <td>30.0</td>\n",
       "      <td>31.0</td>\n",
       "      <td>0</td>\n",
       "    </tr>\n",
       "    <tr>\n",
       "      <th>72552</th>\n",
       "      <td>2023-09-24 00:00:00</td>\n",
       "      <td>2021-01-01 00:00:00</td>\n",
       "      <td>2021-01-31 00:00:00</td>\n",
       "      <td>2021</td>\n",
       "      <td>1.0</td>\n",
       "      <td>Alabama</td>\n",
       "      <td>Respiratory diseases</td>\n",
       "      <td>Influenza and pneumonia</td>\n",
       "      <td>J09-J18</td>\n",
       "      <td>35-44</td>\n",
       "      <td>18.0</td>\n",
       "      <td>18.0</td>\n",
       "      <td>0</td>\n",
       "    </tr>\n",
       "    <tr>\n",
       "      <th>72559</th>\n",
       "      <td>2023-09-24 00:00:00</td>\n",
       "      <td>2021-08-01 00:00:00</td>\n",
       "      <td>2021-08-31 00:00:00</td>\n",
       "      <td>2021</td>\n",
       "      <td>8.0</td>\n",
       "      <td>Alabama</td>\n",
       "      <td>Respiratory diseases</td>\n",
       "      <td>Influenza and pneumonia</td>\n",
       "      <td>J09-J18</td>\n",
       "      <td>35-44</td>\n",
       "      <td>50.0</td>\n",
       "      <td>50.0</td>\n",
       "      <td>0</td>\n",
       "    </tr>\n",
       "    <tr>\n",
       "      <th>72560</th>\n",
       "      <td>2023-09-24 00:00:00</td>\n",
       "      <td>2021-09-01 00:00:00</td>\n",
       "      <td>2021-09-30 00:00:00</td>\n",
       "      <td>2021</td>\n",
       "      <td>9.0</td>\n",
       "      <td>Alabama</td>\n",
       "      <td>Respiratory diseases</td>\n",
       "      <td>Influenza and pneumonia</td>\n",
       "      <td>J09-J18</td>\n",
       "      <td>35-44</td>\n",
       "      <td>53.0</td>\n",
       "      <td>56.0</td>\n",
       "      <td>0</td>\n",
       "    </tr>\n",
       "    <tr>\n",
       "      <th>72561</th>\n",
       "      <td>2023-09-24 00:00:00</td>\n",
       "      <td>2021-10-01 00:00:00</td>\n",
       "      <td>2021-10-31 00:00:00</td>\n",
       "      <td>2021</td>\n",
       "      <td>10.0</td>\n",
       "      <td>Alabama</td>\n",
       "      <td>Respiratory diseases</td>\n",
       "      <td>Influenza and pneumonia</td>\n",
       "      <td>J09-J18</td>\n",
       "      <td>35-44</td>\n",
       "      <td>23.0</td>\n",
       "      <td>26.0</td>\n",
       "      <td>0</td>\n",
       "    </tr>\n",
       "    <tr>\n",
       "      <th>...</th>\n",
       "      <td>...</td>\n",
       "      <td>...</td>\n",
       "      <td>...</td>\n",
       "      <td>...</td>\n",
       "      <td>...</td>\n",
       "      <td>...</td>\n",
       "      <td>...</td>\n",
       "      <td>...</td>\n",
       "      <td>...</td>\n",
       "      <td>...</td>\n",
       "      <td>...</td>\n",
       "      <td>...</td>\n",
       "      <td>...</td>\n",
       "    </tr>\n",
       "    <tr>\n",
       "      <th>610534</th>\n",
       "      <td>2023-09-24 00:00:00</td>\n",
       "      <td>2021-08-01 00:00:00</td>\n",
       "      <td>2021-08-31 00:00:00</td>\n",
       "      <td>2021</td>\n",
       "      <td>8.0</td>\n",
       "      <td>Wyoming</td>\n",
       "      <td>COVID-19</td>\n",
       "      <td>COVID-19</td>\n",
       "      <td>U071</td>\n",
       "      <td>85+</td>\n",
       "      <td>20.0</td>\n",
       "      <td>20.0</td>\n",
       "      <td>0</td>\n",
       "    </tr>\n",
       "    <tr>\n",
       "      <th>610535</th>\n",
       "      <td>2023-09-24 00:00:00</td>\n",
       "      <td>2021-09-01 00:00:00</td>\n",
       "      <td>2021-09-30 00:00:00</td>\n",
       "      <td>2021</td>\n",
       "      <td>9.0</td>\n",
       "      <td>Wyoming</td>\n",
       "      <td>COVID-19</td>\n",
       "      <td>COVID-19</td>\n",
       "      <td>U071</td>\n",
       "      <td>85+</td>\n",
       "      <td>32.0</td>\n",
       "      <td>32.0</td>\n",
       "      <td>0</td>\n",
       "    </tr>\n",
       "    <tr>\n",
       "      <th>610536</th>\n",
       "      <td>2023-09-24 00:00:00</td>\n",
       "      <td>2021-10-01 00:00:00</td>\n",
       "      <td>2021-10-31 00:00:00</td>\n",
       "      <td>2021</td>\n",
       "      <td>10.0</td>\n",
       "      <td>Wyoming</td>\n",
       "      <td>COVID-19</td>\n",
       "      <td>COVID-19</td>\n",
       "      <td>U071</td>\n",
       "      <td>85+</td>\n",
       "      <td>47.0</td>\n",
       "      <td>47.0</td>\n",
       "      <td>0</td>\n",
       "    </tr>\n",
       "    <tr>\n",
       "      <th>610537</th>\n",
       "      <td>2023-09-24 00:00:00</td>\n",
       "      <td>2021-11-01 00:00:00</td>\n",
       "      <td>2021-11-30 00:00:00</td>\n",
       "      <td>2021</td>\n",
       "      <td>11.0</td>\n",
       "      <td>Wyoming</td>\n",
       "      <td>COVID-19</td>\n",
       "      <td>COVID-19</td>\n",
       "      <td>U071</td>\n",
       "      <td>85+</td>\n",
       "      <td>28.0</td>\n",
       "      <td>28.0</td>\n",
       "      <td>0</td>\n",
       "    </tr>\n",
       "    <tr>\n",
       "      <th>610540</th>\n",
       "      <td>2023-09-24 00:00:00</td>\n",
       "      <td>2022-02-01 00:00:00</td>\n",
       "      <td>2022-02-28 00:00:00</td>\n",
       "      <td>2022</td>\n",
       "      <td>2.0</td>\n",
       "      <td>Wyoming</td>\n",
       "      <td>COVID-19</td>\n",
       "      <td>COVID-19</td>\n",
       "      <td>U071</td>\n",
       "      <td>85+</td>\n",
       "      <td>27.0</td>\n",
       "      <td>27.0</td>\n",
       "      <td>0</td>\n",
       "    </tr>\n",
       "  </tbody>\n",
       "</table>\n",
       "<p>45666 rows × 13 columns</p>\n",
       "</div>"
      ],
      "text/plain": [
       "                 Data As Of           Start Date             End Date  Year  \\\n",
       "72514   2023-09-24 00:00:00  2021-08-01 00:00:00  2021-08-31 00:00:00  2021   \n",
       "72552   2023-09-24 00:00:00  2021-01-01 00:00:00  2021-01-31 00:00:00  2021   \n",
       "72559   2023-09-24 00:00:00  2021-08-01 00:00:00  2021-08-31 00:00:00  2021   \n",
       "72560   2023-09-24 00:00:00  2021-09-01 00:00:00  2021-09-30 00:00:00  2021   \n",
       "72561   2023-09-24 00:00:00  2021-10-01 00:00:00  2021-10-31 00:00:00  2021   \n",
       "...                     ...                  ...                  ...   ...   \n",
       "610534  2023-09-24 00:00:00  2021-08-01 00:00:00  2021-08-31 00:00:00  2021   \n",
       "610535  2023-09-24 00:00:00  2021-09-01 00:00:00  2021-09-30 00:00:00  2021   \n",
       "610536  2023-09-24 00:00:00  2021-10-01 00:00:00  2021-10-31 00:00:00  2021   \n",
       "610537  2023-09-24 00:00:00  2021-11-01 00:00:00  2021-11-30 00:00:00  2021   \n",
       "610540  2023-09-24 00:00:00  2022-02-01 00:00:00  2022-02-28 00:00:00  2022   \n",
       "\n",
       "        Month    State       Condition Group                Condition  \\\n",
       "72514     8.0  Alabama  Respiratory diseases  Influenza and pneumonia   \n",
       "72552     1.0  Alabama  Respiratory diseases  Influenza and pneumonia   \n",
       "72559     8.0  Alabama  Respiratory diseases  Influenza and pneumonia   \n",
       "72560     9.0  Alabama  Respiratory diseases  Influenza and pneumonia   \n",
       "72561    10.0  Alabama  Respiratory diseases  Influenza and pneumonia   \n",
       "...       ...      ...                   ...                      ...   \n",
       "610534    8.0  Wyoming              COVID-19                 COVID-19   \n",
       "610535    9.0  Wyoming              COVID-19                 COVID-19   \n",
       "610536   10.0  Wyoming              COVID-19                 COVID-19   \n",
       "610537   11.0  Wyoming              COVID-19                 COVID-19   \n",
       "610540    2.0  Wyoming              COVID-19                 COVID-19   \n",
       "\n",
       "       ICD10_codes Age Group  COVID-19 Deaths  Number of Mentions Flag  \n",
       "72514      J09-J18     25-34             30.0                31.0    0  \n",
       "72552      J09-J18     35-44             18.0                18.0    0  \n",
       "72559      J09-J18     35-44             50.0                50.0    0  \n",
       "72560      J09-J18     35-44             53.0                56.0    0  \n",
       "72561      J09-J18     35-44             23.0                26.0    0  \n",
       "...            ...       ...              ...                 ...  ...  \n",
       "610534        U071       85+             20.0                20.0    0  \n",
       "610535        U071       85+             32.0                32.0    0  \n",
       "610536        U071       85+             47.0                47.0    0  \n",
       "610537        U071       85+             28.0                28.0    0  \n",
       "610540        U071       85+             27.0                27.0    0  \n",
       "\n",
       "[45666 rows x 13 columns]"
      ]
     },
     "execution_count": 156,
     "metadata": {},
     "output_type": "execute_result"
    }
   ],
   "source": [
    "# Check for outliers in \"COVID-19 Deaths\"\n",
    "covid_deaths_outliers = find_column_outliers_IQR(df_covid_final_cleaned, 'COVID-19 Deaths')\n",
    "covid_deaths_outliers"
   ]
  },
  {
   "cell_type": "markdown",
   "id": "eeae6c42-c615-4c99-97d3-d0d2b17fbc1c",
   "metadata": {},
   "source": [
    "A significant number of outliers have been identified, likely due to the high number of zeros in the data. However, the values are considered reasonable in context and should be retained in the DataFrame."
   ]
  },
  {
   "cell_type": "code",
   "execution_count": 157,
   "id": "43ed00b2-3642-4ef9-8345-20bdb86d3aa5",
   "metadata": {},
   "outputs": [
    {
     "data": {
      "text/html": [
       "<div>\n",
       "<style scoped>\n",
       "    .dataframe tbody tr th:only-of-type {\n",
       "        vertical-align: middle;\n",
       "    }\n",
       "\n",
       "    .dataframe tbody tr th {\n",
       "        vertical-align: top;\n",
       "    }\n",
       "\n",
       "    .dataframe thead th {\n",
       "        text-align: right;\n",
       "    }\n",
       "</style>\n",
       "<table border=\"1\" class=\"dataframe\">\n",
       "  <thead>\n",
       "    <tr style=\"text-align: right;\">\n",
       "      <th></th>\n",
       "      <th>Data As Of</th>\n",
       "      <th>Start Date</th>\n",
       "      <th>End Date</th>\n",
       "      <th>Year</th>\n",
       "      <th>Month</th>\n",
       "      <th>State</th>\n",
       "      <th>Condition Group</th>\n",
       "      <th>Condition</th>\n",
       "      <th>ICD10_codes</th>\n",
       "      <th>Age Group</th>\n",
       "      <th>COVID-19 Deaths</th>\n",
       "      <th>Number of Mentions</th>\n",
       "      <th>Flag</th>\n",
       "    </tr>\n",
       "  </thead>\n",
       "  <tbody>\n",
       "    <tr>\n",
       "      <th>72514</th>\n",
       "      <td>2023-09-24 00:00:00</td>\n",
       "      <td>2021-08-01 00:00:00</td>\n",
       "      <td>2021-08-31 00:00:00</td>\n",
       "      <td>2021</td>\n",
       "      <td>8.0</td>\n",
       "      <td>Alabama</td>\n",
       "      <td>Respiratory diseases</td>\n",
       "      <td>Influenza and pneumonia</td>\n",
       "      <td>J09-J18</td>\n",
       "      <td>25-34</td>\n",
       "      <td>30.0</td>\n",
       "      <td>31.0</td>\n",
       "      <td>0</td>\n",
       "    </tr>\n",
       "    <tr>\n",
       "      <th>72559</th>\n",
       "      <td>2023-09-24 00:00:00</td>\n",
       "      <td>2021-08-01 00:00:00</td>\n",
       "      <td>2021-08-31 00:00:00</td>\n",
       "      <td>2021</td>\n",
       "      <td>8.0</td>\n",
       "      <td>Alabama</td>\n",
       "      <td>Respiratory diseases</td>\n",
       "      <td>Influenza and pneumonia</td>\n",
       "      <td>J09-J18</td>\n",
       "      <td>35-44</td>\n",
       "      <td>50.0</td>\n",
       "      <td>50.0</td>\n",
       "      <td>0</td>\n",
       "    </tr>\n",
       "    <tr>\n",
       "      <th>72560</th>\n",
       "      <td>2023-09-24 00:00:00</td>\n",
       "      <td>2021-09-01 00:00:00</td>\n",
       "      <td>2021-09-30 00:00:00</td>\n",
       "      <td>2021</td>\n",
       "      <td>9.0</td>\n",
       "      <td>Alabama</td>\n",
       "      <td>Respiratory diseases</td>\n",
       "      <td>Influenza and pneumonia</td>\n",
       "      <td>J09-J18</td>\n",
       "      <td>35-44</td>\n",
       "      <td>53.0</td>\n",
       "      <td>56.0</td>\n",
       "      <td>0</td>\n",
       "    </tr>\n",
       "    <tr>\n",
       "      <th>72561</th>\n",
       "      <td>2023-09-24 00:00:00</td>\n",
       "      <td>2021-10-01 00:00:00</td>\n",
       "      <td>2021-10-31 00:00:00</td>\n",
       "      <td>2021</td>\n",
       "      <td>10.0</td>\n",
       "      <td>Alabama</td>\n",
       "      <td>Respiratory diseases</td>\n",
       "      <td>Influenza and pneumonia</td>\n",
       "      <td>J09-J18</td>\n",
       "      <td>35-44</td>\n",
       "      <td>23.0</td>\n",
       "      <td>26.0</td>\n",
       "      <td>0</td>\n",
       "    </tr>\n",
       "    <tr>\n",
       "      <th>72596</th>\n",
       "      <td>2023-09-24 00:00:00</td>\n",
       "      <td>2020-12-01 00:00:00</td>\n",
       "      <td>2020-12-31 00:00:00</td>\n",
       "      <td>2020</td>\n",
       "      <td>12.0</td>\n",
       "      <td>Alabama</td>\n",
       "      <td>Respiratory diseases</td>\n",
       "      <td>Influenza and pneumonia</td>\n",
       "      <td>J09-J18</td>\n",
       "      <td>45-54</td>\n",
       "      <td>29.0</td>\n",
       "      <td>29.0</td>\n",
       "      <td>0</td>\n",
       "    </tr>\n",
       "    <tr>\n",
       "      <th>...</th>\n",
       "      <td>...</td>\n",
       "      <td>...</td>\n",
       "      <td>...</td>\n",
       "      <td>...</td>\n",
       "      <td>...</td>\n",
       "      <td>...</td>\n",
       "      <td>...</td>\n",
       "      <td>...</td>\n",
       "      <td>...</td>\n",
       "      <td>...</td>\n",
       "      <td>...</td>\n",
       "      <td>...</td>\n",
       "      <td>...</td>\n",
       "    </tr>\n",
       "    <tr>\n",
       "      <th>610527</th>\n",
       "      <td>2023-09-24 00:00:00</td>\n",
       "      <td>2021-01-01 00:00:00</td>\n",
       "      <td>2021-01-31 00:00:00</td>\n",
       "      <td>2021</td>\n",
       "      <td>1.0</td>\n",
       "      <td>Wyoming</td>\n",
       "      <td>COVID-19</td>\n",
       "      <td>COVID-19</td>\n",
       "      <td>U071</td>\n",
       "      <td>85+</td>\n",
       "      <td>33.0</td>\n",
       "      <td>33.0</td>\n",
       "      <td>0</td>\n",
       "    </tr>\n",
       "    <tr>\n",
       "      <th>610535</th>\n",
       "      <td>2023-09-24 00:00:00</td>\n",
       "      <td>2021-09-01 00:00:00</td>\n",
       "      <td>2021-09-30 00:00:00</td>\n",
       "      <td>2021</td>\n",
       "      <td>9.0</td>\n",
       "      <td>Wyoming</td>\n",
       "      <td>COVID-19</td>\n",
       "      <td>COVID-19</td>\n",
       "      <td>U071</td>\n",
       "      <td>85+</td>\n",
       "      <td>32.0</td>\n",
       "      <td>32.0</td>\n",
       "      <td>0</td>\n",
       "    </tr>\n",
       "    <tr>\n",
       "      <th>610536</th>\n",
       "      <td>2023-09-24 00:00:00</td>\n",
       "      <td>2021-10-01 00:00:00</td>\n",
       "      <td>2021-10-31 00:00:00</td>\n",
       "      <td>2021</td>\n",
       "      <td>10.0</td>\n",
       "      <td>Wyoming</td>\n",
       "      <td>COVID-19</td>\n",
       "      <td>COVID-19</td>\n",
       "      <td>U071</td>\n",
       "      <td>85+</td>\n",
       "      <td>47.0</td>\n",
       "      <td>47.0</td>\n",
       "      <td>0</td>\n",
       "    </tr>\n",
       "    <tr>\n",
       "      <th>610537</th>\n",
       "      <td>2023-09-24 00:00:00</td>\n",
       "      <td>2021-11-01 00:00:00</td>\n",
       "      <td>2021-11-30 00:00:00</td>\n",
       "      <td>2021</td>\n",
       "      <td>11.0</td>\n",
       "      <td>Wyoming</td>\n",
       "      <td>COVID-19</td>\n",
       "      <td>COVID-19</td>\n",
       "      <td>U071</td>\n",
       "      <td>85+</td>\n",
       "      <td>28.0</td>\n",
       "      <td>28.0</td>\n",
       "      <td>0</td>\n",
       "    </tr>\n",
       "    <tr>\n",
       "      <th>610540</th>\n",
       "      <td>2023-09-24 00:00:00</td>\n",
       "      <td>2022-02-01 00:00:00</td>\n",
       "      <td>2022-02-28 00:00:00</td>\n",
       "      <td>2022</td>\n",
       "      <td>2.0</td>\n",
       "      <td>Wyoming</td>\n",
       "      <td>COVID-19</td>\n",
       "      <td>COVID-19</td>\n",
       "      <td>U071</td>\n",
       "      <td>85+</td>\n",
       "      <td>27.0</td>\n",
       "      <td>27.0</td>\n",
       "      <td>0</td>\n",
       "    </tr>\n",
       "  </tbody>\n",
       "</table>\n",
       "<p>43020 rows × 13 columns</p>\n",
       "</div>"
      ],
      "text/plain": [
       "                 Data As Of           Start Date             End Date  Year  \\\n",
       "72514   2023-09-24 00:00:00  2021-08-01 00:00:00  2021-08-31 00:00:00  2021   \n",
       "72559   2023-09-24 00:00:00  2021-08-01 00:00:00  2021-08-31 00:00:00  2021   \n",
       "72560   2023-09-24 00:00:00  2021-09-01 00:00:00  2021-09-30 00:00:00  2021   \n",
       "72561   2023-09-24 00:00:00  2021-10-01 00:00:00  2021-10-31 00:00:00  2021   \n",
       "72596   2023-09-24 00:00:00  2020-12-01 00:00:00  2020-12-31 00:00:00  2020   \n",
       "...                     ...                  ...                  ...   ...   \n",
       "610527  2023-09-24 00:00:00  2021-01-01 00:00:00  2021-01-31 00:00:00  2021   \n",
       "610535  2023-09-24 00:00:00  2021-09-01 00:00:00  2021-09-30 00:00:00  2021   \n",
       "610536  2023-09-24 00:00:00  2021-10-01 00:00:00  2021-10-31 00:00:00  2021   \n",
       "610537  2023-09-24 00:00:00  2021-11-01 00:00:00  2021-11-30 00:00:00  2021   \n",
       "610540  2023-09-24 00:00:00  2022-02-01 00:00:00  2022-02-28 00:00:00  2022   \n",
       "\n",
       "        Month    State       Condition Group                Condition  \\\n",
       "72514     8.0  Alabama  Respiratory diseases  Influenza and pneumonia   \n",
       "72559     8.0  Alabama  Respiratory diseases  Influenza and pneumonia   \n",
       "72560     9.0  Alabama  Respiratory diseases  Influenza and pneumonia   \n",
       "72561    10.0  Alabama  Respiratory diseases  Influenza and pneumonia   \n",
       "72596    12.0  Alabama  Respiratory diseases  Influenza and pneumonia   \n",
       "...       ...      ...                   ...                      ...   \n",
       "610527    1.0  Wyoming              COVID-19                 COVID-19   \n",
       "610535    9.0  Wyoming              COVID-19                 COVID-19   \n",
       "610536   10.0  Wyoming              COVID-19                 COVID-19   \n",
       "610537   11.0  Wyoming              COVID-19                 COVID-19   \n",
       "610540    2.0  Wyoming              COVID-19                 COVID-19   \n",
       "\n",
       "       ICD10_codes Age Group  COVID-19 Deaths  Number of Mentions Flag  \n",
       "72514      J09-J18     25-34             30.0                31.0    0  \n",
       "72559      J09-J18     35-44             50.0                50.0    0  \n",
       "72560      J09-J18     35-44             53.0                56.0    0  \n",
       "72561      J09-J18     35-44             23.0                26.0    0  \n",
       "72596      J09-J18     45-54             29.0                29.0    0  \n",
       "...            ...       ...              ...                 ...  ...  \n",
       "610527        U071       85+             33.0                33.0    0  \n",
       "610535        U071       85+             32.0                32.0    0  \n",
       "610536        U071       85+             47.0                47.0    0  \n",
       "610537        U071       85+             28.0                28.0    0  \n",
       "610540        U071       85+             27.0                27.0    0  \n",
       "\n",
       "[43020 rows x 13 columns]"
      ]
     },
     "execution_count": 157,
     "metadata": {},
     "output_type": "execute_result"
    }
   ],
   "source": [
    "# Check for outliers in \"Number of Mentions\"\n",
    "mentions_outliers = find_column_outliers_IQR(df_covid_final_cleaned, 'Number of Mentions')\n",
    "mentions_outliers"
   ]
  },
  {
   "cell_type": "markdown",
   "id": "ff6526c6-cd35-45db-94d4-2ae43ff8f610",
   "metadata": {},
   "source": [
    "Similar to the COVID-19 Deaths column, a significant number of outliers have been identified in the Number of Mentions column. This is likely due to the high number of zeros in the data. The values are deemed reasonable in context and should, therefore, be retained in the DataFrame."
   ]
  },
  {
   "cell_type": "markdown",
   "id": "185f49a7-336f-4b9b-bb9e-0ccee22aa103",
   "metadata": {},
   "source": [
    "Final check of the dataframe before exporting"
   ]
  },
  {
   "cell_type": "code",
   "execution_count": 162,
   "id": "d89917f3-af8b-4b1a-934f-7ec5c3d03d3d",
   "metadata": {},
   "outputs": [
    {
     "name": "stdout",
     "output_type": "stream",
     "text": [
      "                Data As Of           Start Date             End Date  Year  \\\n",
      "72450  2023-09-24 00:00:00  2020-01-01 00:00:00  2020-01-31 00:00:00  2020   \n",
      "72451  2023-09-24 00:00:00  2020-02-01 00:00:00  2020-02-29 00:00:00  2020   \n",
      "72452  2023-09-24 00:00:00  2020-03-01 00:00:00  2020-03-31 00:00:00  2020   \n",
      "72453  2023-09-24 00:00:00  2020-04-01 00:00:00  2020-04-30 00:00:00  2020   \n",
      "72454  2023-09-24 00:00:00  2020-05-01 00:00:00  2020-05-31 00:00:00  2020   \n",
      "\n",
      "       Month    State       Condition Group                Condition  \\\n",
      "72450    1.0  Alabama  Respiratory diseases  Influenza and pneumonia   \n",
      "72451    2.0  Alabama  Respiratory diseases  Influenza and pneumonia   \n",
      "72452    3.0  Alabama  Respiratory diseases  Influenza and pneumonia   \n",
      "72453    4.0  Alabama  Respiratory diseases  Influenza and pneumonia   \n",
      "72454    5.0  Alabama  Respiratory diseases  Influenza and pneumonia   \n",
      "\n",
      "      ICD10_codes Age Group  COVID-19 Deaths  Number of Mentions Flag  \n",
      "72450     J09-J18      0-24              0.0                 0.0    0  \n",
      "72451     J09-J18      0-24              0.0                 0.0    0  \n",
      "72452     J09-J18      0-24              0.0                 0.0    0  \n",
      "72453     J09-J18      0-24              0.0                 0.0    0  \n",
      "72454     J09-J18      0-24              0.0                 0.0    0  \n",
      "<class 'pandas.core.frame.DataFrame'>\n",
      "Index: 430560 entries, 72450 to 610559\n",
      "Data columns (total 13 columns):\n",
      " #   Column              Non-Null Count   Dtype  \n",
      "---  ------              --------------   -----  \n",
      " 0   Data As Of          430560 non-null  object \n",
      " 1   Start Date          430560 non-null  object \n",
      " 2   End Date            430560 non-null  object \n",
      " 3   Year                430560 non-null  int32  \n",
      " 4   Month               430560 non-null  float64\n",
      " 5   State               430560 non-null  object \n",
      " 6   Condition Group     430560 non-null  object \n",
      " 7   Condition           430560 non-null  object \n",
      " 8   ICD10_codes         430560 non-null  object \n",
      " 9   Age Group           430560 non-null  object \n",
      " 10  COVID-19 Deaths     430560 non-null  float64\n",
      " 11  Number of Mentions  430560 non-null  float64\n",
      " 12  Flag                430560 non-null  object \n",
      "dtypes: float64(3), int32(1), object(9)\n",
      "memory usage: 60.5+ MB\n",
      "None\n"
     ]
    },
    {
     "data": {
      "text/plain": [
       "(430560, 13)"
      ]
     },
     "execution_count": 162,
     "metadata": {},
     "output_type": "execute_result"
    }
   ],
   "source": [
    "# Final check of the \"df_covid_final_cleaned\" dataframe before exporting\n",
    "print(df_covid_final_cleaned.head())\n",
    "print(df_covid_final_cleaned.info())\n",
    "df_covid_final_cleaned.shape"
   ]
  },
  {
   "cell_type": "code",
   "execution_count": 163,
   "id": "465562e1-6a85-4fff-a311-861028915ded",
   "metadata": {},
   "outputs": [
    {
     "data": {
      "text/html": [
       "<div>\n",
       "<style scoped>\n",
       "    .dataframe tbody tr th:only-of-type {\n",
       "        vertical-align: middle;\n",
       "    }\n",
       "\n",
       "    .dataframe tbody tr th {\n",
       "        vertical-align: top;\n",
       "    }\n",
       "\n",
       "    .dataframe thead th {\n",
       "        text-align: right;\n",
       "    }\n",
       "</style>\n",
       "<table border=\"1\" class=\"dataframe\">\n",
       "  <thead>\n",
       "    <tr style=\"text-align: right;\">\n",
       "      <th></th>\n",
       "      <th>Year</th>\n",
       "      <th>Month</th>\n",
       "      <th>COVID-19 Deaths</th>\n",
       "      <th>Number of Mentions</th>\n",
       "    </tr>\n",
       "  </thead>\n",
       "  <tbody>\n",
       "    <tr>\n",
       "      <th>count</th>\n",
       "      <td>430560.000000</td>\n",
       "      <td>430560.000000</td>\n",
       "      <td>430560.000000</td>\n",
       "      <td>430560.000000</td>\n",
       "    </tr>\n",
       "    <tr>\n",
       "      <th>mean</th>\n",
       "      <td>2021.400000</td>\n",
       "      <td>6.200000</td>\n",
       "      <td>10.907771</td>\n",
       "      <td>11.778444</td>\n",
       "    </tr>\n",
       "    <tr>\n",
       "      <th>std</th>\n",
       "      <td>1.083206</td>\n",
       "      <td>3.350626</td>\n",
       "      <td>53.958885</td>\n",
       "      <td>57.090893</td>\n",
       "    </tr>\n",
       "    <tr>\n",
       "      <th>min</th>\n",
       "      <td>2020.000000</td>\n",
       "      <td>1.000000</td>\n",
       "      <td>0.000000</td>\n",
       "      <td>0.000000</td>\n",
       "    </tr>\n",
       "    <tr>\n",
       "      <th>25%</th>\n",
       "      <td>2020.000000</td>\n",
       "      <td>3.000000</td>\n",
       "      <td>0.000000</td>\n",
       "      <td>0.000000</td>\n",
       "    </tr>\n",
       "    <tr>\n",
       "      <th>50%</th>\n",
       "      <td>2021.000000</td>\n",
       "      <td>6.000000</td>\n",
       "      <td>1.000000</td>\n",
       "      <td>1.000000</td>\n",
       "    </tr>\n",
       "    <tr>\n",
       "      <th>75%</th>\n",
       "      <td>2022.000000</td>\n",
       "      <td>9.000000</td>\n",
       "      <td>7.000000</td>\n",
       "      <td>8.000000</td>\n",
       "    </tr>\n",
       "    <tr>\n",
       "      <th>max</th>\n",
       "      <td>2023.000000</td>\n",
       "      <td>12.000000</td>\n",
       "      <td>5094.000000</td>\n",
       "      <td>5094.000000</td>\n",
       "    </tr>\n",
       "  </tbody>\n",
       "</table>\n",
       "</div>"
      ],
      "text/plain": [
       "                Year          Month  COVID-19 Deaths  Number of Mentions\n",
       "count  430560.000000  430560.000000    430560.000000       430560.000000\n",
       "mean     2021.400000       6.200000        10.907771           11.778444\n",
       "std         1.083206       3.350626        53.958885           57.090893\n",
       "min      2020.000000       1.000000         0.000000            0.000000\n",
       "25%      2020.000000       3.000000         0.000000            0.000000\n",
       "50%      2021.000000       6.000000         1.000000            1.000000\n",
       "75%      2022.000000       9.000000         7.000000            8.000000\n",
       "max      2023.000000      12.000000      5094.000000         5094.000000"
      ]
     },
     "execution_count": 163,
     "metadata": {},
     "output_type": "execute_result"
    }
   ],
   "source": [
    "# Recheck statistics of the dataset\n",
    "df_covid_final_cleaned.describe()"
   ]
  },
  {
   "cell_type": "code",
   "execution_count": 164,
   "id": "c01b6605-631f-477e-9fc5-fb50c4dd8e2d",
   "metadata": {},
   "outputs": [
    {
     "name": "stdout",
     "output_type": "stream",
     "text": [
      "State\n",
      "Alabama                 8280\n",
      "Alaska                  8280\n",
      "Nevada                  8280\n",
      "New Hampshire           8280\n",
      "New Jersey              8280\n",
      "New Mexico              8280\n",
      "New York                8280\n",
      "New York City           8280\n",
      "North Carolina          8280\n",
      "North Dakota            8280\n",
      "Ohio                    8280\n",
      "Oklahoma                8280\n",
      "Oregon                  8280\n",
      "Pennsylvania            8280\n",
      "Rhode Island            8280\n",
      "South Carolina          8280\n",
      "South Dakota            8280\n",
      "Tennessee               8280\n",
      "Texas                   8280\n",
      "Utah                    8280\n",
      "Vermont                 8280\n",
      "Virginia                8280\n",
      "Washington              8280\n",
      "West Virginia           8280\n",
      "Wisconsin               8280\n",
      "Nebraska                8280\n",
      "Montana                 8280\n",
      "Missouri                8280\n",
      "Idaho                   8280\n",
      "Arizona                 8280\n",
      "Arkansas                8280\n",
      "California              8280\n",
      "Colorado                8280\n",
      "Connecticut             8280\n",
      "Delaware                8280\n",
      "District of Columbia    8280\n",
      "Florida                 8280\n",
      "Georgia                 8280\n",
      "Hawaii                  8280\n",
      "Illinois                8280\n",
      "Mississippi             8280\n",
      "Indiana                 8280\n",
      "Iowa                    8280\n",
      "Kansas                  8280\n",
      "Kentucky                8280\n",
      "Louisiana               8280\n",
      "Maine                   8280\n",
      "Maryland                8280\n",
      "Massachusetts           8280\n",
      "Michigan                8280\n",
      "Minnesota               8280\n",
      "Wyoming                 8280\n",
      "Name: count, dtype: int64\n"
     ]
    }
   ],
   "source": [
    "# Check counts of unique values in categorical variables\n",
    "print(df_covid_final_cleaned['State'].value_counts(dropna=False))"
   ]
  },
  {
   "cell_type": "code",
   "execution_count": 165,
   "id": "4d2fa2c0-182a-4bae-a724-bc22f6b4b982",
   "metadata": {},
   "outputs": [
    {
     "name": "stdout",
     "output_type": "stream",
     "text": [
      "Condition Group\n",
      "Circulatory diseases                                                         131040\n",
      "Respiratory diseases                                                         112320\n",
      "Sepsis                                                                        18720\n",
      "Malignant neoplasms                                                           18720\n",
      "Diabetes                                                                      18720\n",
      "Obesity                                                                       18720\n",
      "Alzheimer disease                                                             18720\n",
      "Vascular and unspecified dementia                                             18720\n",
      "Renal failure                                                                 18720\n",
      "Intentional and unintentional injury, poisoning, and other adverse events     18720\n",
      "All other conditions and causes (residual)                                    18720\n",
      "COVID-19                                                                      18720\n",
      "Name: count, dtype: int64\n"
     ]
    }
   ],
   "source": [
    "print(df_covid_final_cleaned['Condition Group'].value_counts(dropna=False))"
   ]
  },
  {
   "cell_type": "code",
   "execution_count": 166,
   "id": "3eeb6d8a-91dd-4c10-bf15-1125820cccd7",
   "metadata": {},
   "outputs": [
    {
     "name": "stdout",
     "output_type": "stream",
     "text": [
      "Condition\n",
      "Influenza and pneumonia                                                      18720\n",
      "Other diseases of the circulatory system                                     18720\n",
      "All other conditions and causes (residual)                                   18720\n",
      "Intentional and unintentional injury, poisoning, and other adverse events    18720\n",
      "Renal failure                                                                18720\n",
      "Vascular and unspecified dementia                                            18720\n",
      "Alzheimer disease                                                            18720\n",
      "Obesity                                                                      18720\n",
      "Diabetes                                                                     18720\n",
      "Malignant neoplasms                                                          18720\n",
      "Sepsis                                                                       18720\n",
      "Cerebrovascular diseases                                                     18720\n",
      "Chronic lower respiratory diseases                                           18720\n",
      "Heart failure                                                                18720\n",
      "Cardiac arrhythmia                                                           18720\n",
      "Cardiac arrest                                                               18720\n",
      "Ischemic heart disease                                                       18720\n",
      "Hypertensive diseases                                                        18720\n",
      "Other diseases of the respiratory system                                     18720\n",
      "Respiratory arrest                                                           18720\n",
      "Respiratory failure                                                          18720\n",
      "Adult respiratory distress syndrome                                          18720\n",
      "COVID-19                                                                     18720\n",
      "Name: count, dtype: int64\n"
     ]
    }
   ],
   "source": [
    "print(df_covid_final_cleaned['Condition'].value_counts(dropna=False))"
   ]
  },
  {
   "cell_type": "code",
   "execution_count": 167,
   "id": "39eec79a-2f70-4153-8037-8f4b7d77fcf1",
   "metadata": {},
   "outputs": [
    {
     "name": "stdout",
     "output_type": "stream",
     "text": [
      "ICD10_codes\n",
      "J09-J18                                                                                                                                                                                 18720\n",
      "I00-I09, I26-I43, I51, I52, I70-I99                                                                                                                                                     18720\n",
      "A00-A39, A42-B99, D00-E07, E15-E64, E70-E90, F00, F02, F04-G26, G31-H95, K00-K93, L00-M99, N00-N16, N20-N98, O00-O99, P00-P96, Q00-Q99, R00-R08, R09.0, R09.1, R09.3, R09.8, R10-R99    18720\n",
      "S00-T98, V01-X59, X60-X84, X85-Y09, Y10-Y36, Y40-Y89, U01-U03                                                                                                                           18720\n",
      "N17-N19                                                                                                                                                                                 18720\n",
      "F01, F03                                                                                                                                                                                18720\n",
      "G30                                                                                                                                                                                     18720\n",
      "E65-E68                                                                                                                                                                                 18720\n",
      "E10-E14                                                                                                                                                                                 18720\n",
      "C00-C97                                                                                                                                                                                 18720\n",
      "A40-A41                                                                                                                                                                                 18720\n",
      "I60-I69                                                                                                                                                                                 18720\n",
      "J40-J47                                                                                                                                                                                 18720\n",
      "I50                                                                                                                                                                                     18720\n",
      "I44, I45, I47-I49                                                                                                                                                                       18720\n",
      "I46                                                                                                                                                                                     18720\n",
      "I20-I25                                                                                                                                                                                 18720\n",
      "I10-I15                                                                                                                                                                                 18720\n",
      "J00-J06, J20-J39, J60-J70, J81-J86, J90-J95, J97-J99, U04                                                                                                                               18720\n",
      "R09.2                                                                                                                                                                                   18720\n",
      "J96                                                                                                                                                                                     18720\n",
      "J80                                                                                                                                                                                     18720\n",
      "U071                                                                                                                                                                                    18720\n",
      "Name: count, dtype: int64\n"
     ]
    }
   ],
   "source": [
    "print(df_covid_final_cleaned['ICD10_codes'].value_counts(dropna=False))"
   ]
  },
  {
   "cell_type": "code",
   "execution_count": 168,
   "id": "120e746c-ccf2-4fe5-b72d-56a5ae9004fc",
   "metadata": {},
   "outputs": [
    {
     "name": "stdout",
     "output_type": "stream",
     "text": [
      "Age Group\n",
      "0-24     53820\n",
      "25-34    53820\n",
      "35-44    53820\n",
      "45-54    53820\n",
      "55-64    53820\n",
      "65-74    53820\n",
      "75-84    53820\n",
      "85+      53820\n",
      "Name: count, dtype: int64\n"
     ]
    }
   ],
   "source": [
    "print(df_covid_final_cleaned['Age Group'].value_counts(dropna=False))"
   ]
  },
  {
   "cell_type": "code",
   "execution_count": 169,
   "id": "5b2b4c4f-b9e5-4f09-8592-532ab31610ca",
   "metadata": {},
   "outputs": [
    {
     "name": "stdout",
     "output_type": "stream",
     "text": [
      "Flag\n",
      "0                                                                                                                             279731\n",
      "One or more data cells have counts between 1-9 and have been suppressed in accordance with NCHS confidentiality standards.    150829\n",
      "Name: count, dtype: int64\n"
     ]
    }
   ],
   "source": [
    "print(df_covid_final_cleaned['Flag'].value_counts(dropna=False))"
   ]
  },
  {
   "cell_type": "markdown",
   "id": "9f202a04-b97a-4303-8be9-619dd50bd1a6",
   "metadata": {},
   "source": [
    "## 8. Exporting the Dataset"
   ]
  },
  {
   "cell_type": "code",
   "execution_count": 170,
   "id": "5cec2cdf-89cc-4bb6-8f57-dce62ab3cf10",
   "metadata": {},
   "outputs": [],
   "source": [
    "path1 = r'C:\\Users\\rajkaran\\Documents\\CareerFoundry- Data Analytics Program\\2. Data Immersion\\Achievements 6 - Tasks\\3. Data\\Prepared Data'"
   ]
  },
  {
   "cell_type": "code",
   "execution_count": 171,
   "id": "8a91d80b-f465-4d00-8027-586744e3bc9f",
   "metadata": {},
   "outputs": [
    {
     "name": "stdout",
     "output_type": "stream",
     "text": [
      "C:\\Users\\rajkaran\\Documents\\CareerFoundry- Data Analytics Program\\2. Data Immersion\\Achievements 6 - Tasks\\3. Data\\Prepared Data\n"
     ]
    }
   ],
   "source": [
    "print(path1)"
   ]
  },
  {
   "cell_type": "code",
   "execution_count": 172,
   "id": "4b2d87c0-e51c-489a-9d0c-be4e95fe336f",
   "metadata": {},
   "outputs": [],
   "source": [
    "# Export the \"df_covid_final_cleaned\" dataframe to CSV\n",
    "df_covid_final_cleaned.to_csv(os.path.join(path1, 'cleaned_covid_final.csv'), index=False)"
   ]
  }
 ],
 "metadata": {
  "kernelspec": {
   "display_name": "Python 3 (ipykernel)",
   "language": "python",
   "name": "python3"
  },
  "language_info": {
   "codemirror_mode": {
    "name": "ipython",
    "version": 3
   },
   "file_extension": ".py",
   "mimetype": "text/x-python",
   "name": "python",
   "nbconvert_exporter": "python",
   "pygments_lexer": "ipython3",
   "version": "3.11.7"
  }
 },
 "nbformat": 4,
 "nbformat_minor": 5
}
